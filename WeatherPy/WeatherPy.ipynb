{
 "cells": [
  {
   "cell_type": "markdown",
   "metadata": {},
   "source": [
    "# WeatherPy\n",
    "----\n",
    "\n",
    "#### Note\n",
    "* Instructions have been included for each segment. You do not have to follow them exactly, but they are included to help you think through the steps."
   ]
  },
  {
   "cell_type": "code",
   "execution_count": 2,
   "metadata": {},
   "outputs": [],
   "source": [
    "# Dependencies\n",
    "import json\n",
    "import random\n",
    "import requests\n",
    "import numpy as np\n",
    "import pandas as pd\n",
    "from citipy import citipy\n",
    "import matplotlib.pyplot as plt\n",
    "from api_keys import weather_api_key\n"
   ]
  },
  {
   "cell_type": "markdown",
   "metadata": {},
   "source": [
    "## Generate Cities List"
   ]
  },
  {
   "cell_type": "code",
   "execution_count": 3,
   "metadata": {},
   "outputs": [
    {
     "name": "stdout",
     "output_type": "stream",
     "text": [
      "648\n"
     ]
    }
   ],
   "source": [
    "latitude_data = np.random.randint(low=-90, high=90, size=1600)\n",
    "longitude_data = np.random.randint(low=-180, high=180, size=1600)\n",
    "\n",
    "coordinates = list(zip(latitude_data, longitude_data))\n",
    "\n",
    "cities = []\n",
    "for coordinate in coordinates:\n",
    "    lat, lon = coordinate\n",
    "    city=citipy.nearest_city(coordinate[0], coordinate[1]).city_name\n",
    "    \n",
    "    # If the city is unique, then add it to the cities list:\n",
    "    if city not in cities:\n",
    "        cities.append(city)\n",
    "\n",
    "print(len(cities))"
   ]
  },
  {
   "cell_type": "code",
   "execution_count": 4,
   "metadata": {},
   "outputs": [],
   "source": [
    "# Set url for API\n",
    "url = \"http://api.openweathermap.org/data/2.5/weather?\"\n",
    "\n",
    "units = \"imperial\"\n",
    "\n",
    "query_url=f'{url}appid={weather_api_key}&units={units}&q='"
   ]
  },
  {
   "cell_type": "markdown",
   "metadata": {},
   "source": [
    "### Perform API Calls\n",
    "* Perform a weather check on each city using a series of successive API calls.\n",
    "* Include a print log of each city as it'sbeing processed (with the city number and city name).\n"
   ]
  },
  {
   "cell_type": "code",
   "execution_count": 5,
   "metadata": {
    "scrolled": true
   },
   "outputs": [
    {
     "name": "stdout",
     "output_type": "stream",
     "text": [
      "Beginning Data Retrieval\n",
      "-----------------------------\n",
      "Processing Record 1 of 648 | geraldton\n",
      "Processing Record 2 of 648 | mahebourg\n",
      "Processing Record 3 of 648 | east london\n",
      "Processing Record 4 of 648 | busselton\n",
      "Processing Record 5 of 648 | castro\n",
      "Processing Record 6 of 648 | belushya guba\n",
      "belushya guba City not found. Skipping...\n",
      "Processing Record 7 of 648 | leh\n",
      "Processing Record 8 of 648 | bethel\n",
      "Processing Record 9 of 648 | punta arenas\n",
      "Processing Record 10 of 648 | bowen\n",
      "Processing Record 11 of 648 | ternate\n",
      "Processing Record 12 of 648 | hami\n",
      "Processing Record 13 of 648 | kodiak\n",
      "Processing Record 14 of 648 | iqaluit\n",
      "Processing Record 15 of 648 | naryan-mar\n",
      "Processing Record 16 of 648 | rikitea\n",
      "Processing Record 17 of 648 | ancud\n",
      "Processing Record 18 of 648 | vaini\n",
      "Processing Record 19 of 648 | bardiyah\n",
      "Processing Record 20 of 648 | ponta do sol\n",
      "Processing Record 21 of 648 | marquette\n",
      "Processing Record 22 of 648 | hilo\n",
      "Processing Record 23 of 648 | tomatlan\n",
      "Processing Record 24 of 648 | vaitupu\n",
      "vaitupu City not found. Skipping...\n",
      "Processing Record 25 of 648 | bluff\n",
      "Processing Record 26 of 648 | avarua\n",
      "Processing Record 27 of 648 | cherskiy\n",
      "Processing Record 28 of 648 | taolanaro\n",
      "taolanaro City not found. Skipping...\n",
      "Processing Record 29 of 648 | iskateley\n",
      "Processing Record 30 of 648 | sentyabrskiy\n",
      "sentyabrskiy City not found. Skipping...\n",
      "Processing Record 31 of 648 | ilebo\n",
      "Processing Record 32 of 648 | kahului\n",
      "Processing Record 33 of 648 | kondinskoye\n",
      "Processing Record 34 of 648 | matara\n",
      "Processing Record 35 of 648 | nizhneyansk\n",
      "nizhneyansk City not found. Skipping...\n",
      "Processing Record 36 of 648 | carutapera\n",
      "Processing Record 37 of 648 | evensk\n",
      "Processing Record 38 of 648 | richards bay\n",
      "Processing Record 39 of 648 | victoria\n",
      "Processing Record 40 of 648 | gambela\n",
      "Processing Record 41 of 648 | butaritari\n",
      "Processing Record 42 of 648 | codrington\n",
      "Processing Record 43 of 648 | clyde river\n",
      "Processing Record 44 of 648 | carnarvon\n",
      "Processing Record 45 of 648 | kapaa\n",
      "Processing Record 46 of 648 | lebu\n",
      "Processing Record 47 of 648 | saskylakh\n",
      "Processing Record 48 of 648 | hermanus\n",
      "Processing Record 49 of 648 | airai\n",
      "Processing Record 50 of 648 | mataura\n",
      "Processing Record 51 of 648 | tuktoyaktuk\n",
      "Processing Record 52 of 648 | chuy\n",
      "Processing Record 53 of 648 | cape town\n",
      "Processing Record 54 of 648 | coquimbo\n",
      "Processing Record 55 of 648 | sanchursk\n",
      "Processing Record 56 of 648 | rungata\n",
      "rungata City not found. Skipping...\n",
      "Processing Record 57 of 648 | noumea\n",
      "Processing Record 58 of 648 | aswan\n",
      "Processing Record 59 of 648 | illoqqortoormiut\n",
      "illoqqortoormiut City not found. Skipping...\n",
      "Processing Record 60 of 648 | cap malheureux\n",
      "Processing Record 61 of 648 | noyabrsk\n",
      "Processing Record 62 of 648 | narsaq\n",
      "Processing Record 63 of 648 | palabuhanratu\n",
      "palabuhanratu City not found. Skipping...\n",
      "Processing Record 64 of 648 | novikovo\n",
      "Processing Record 65 of 648 | jamestown\n",
      "Processing Record 66 of 648 | shangzhi\n",
      "Processing Record 67 of 648 | cockburn town\n",
      "Processing Record 68 of 648 | vestmannaeyjar\n",
      "Processing Record 69 of 648 | atuona\n",
      "Processing Record 70 of 648 | palana\n",
      "Processing Record 71 of 648 | ushuaia\n",
      "Processing Record 72 of 648 | hofn\n",
      "Processing Record 73 of 648 | palmer\n",
      "Processing Record 74 of 648 | mar del plata\n",
      "Processing Record 75 of 648 | elizabeth city\n",
      "Processing Record 76 of 648 | hambantota\n",
      "Processing Record 77 of 648 | pevek\n",
      "Processing Record 78 of 648 | baruun-urt\n",
      "Processing Record 79 of 648 | port alfred\n",
      "Processing Record 80 of 648 | tucupita\n",
      "Processing Record 81 of 648 | srandakan\n",
      "Processing Record 82 of 648 | daoukro\n",
      "Processing Record 83 of 648 | broome\n",
      "Processing Record 84 of 648 | stamsund\n",
      "stamsund City not found. Skipping...\n",
      "Processing Record 85 of 648 | nelson bay\n",
      "Processing Record 86 of 648 | bathsheba\n",
      "Processing Record 87 of 648 | mazagao\n",
      "Processing Record 88 of 648 | bonthe\n",
      "Processing Record 89 of 648 | fairbanks\n",
      "Processing Record 90 of 648 | aklavik\n",
      "Processing Record 91 of 648 | mayumba\n",
      "Processing Record 92 of 648 | te anau\n",
      "Processing Record 93 of 648 | nola\n",
      "Processing Record 94 of 648 | el real de santa maria\n",
      "Processing Record 95 of 648 | almaznyy\n",
      "Processing Record 96 of 648 | pangnirtung\n",
      "Processing Record 97 of 648 | puerto ayora\n",
      "Processing Record 98 of 648 | albany\n",
      "Processing Record 99 of 648 | sitka\n",
      "Processing Record 100 of 648 | mayo\n",
      "Processing Record 101 of 648 | hobart\n",
      "Processing Record 102 of 648 | upernavik\n",
      "Processing Record 103 of 648 | grand river south east\n",
      "grand river south east City not found. Skipping...\n",
      "Processing Record 104 of 648 | mys shmidta\n",
      "mys shmidta City not found. Skipping...\n",
      "Processing Record 105 of 648 | jibuti\n",
      "Processing Record 106 of 648 | longyearbyen\n",
      "Processing Record 107 of 648 | la palma\n",
      "Processing Record 108 of 648 | ucluelet\n",
      "Processing Record 109 of 648 | qaanaaq\n",
      "Processing Record 110 of 648 | kavaratti\n",
      "Processing Record 111 of 648 | mahbubabad\n",
      "Processing Record 112 of 648 | moron\n",
      "Processing Record 113 of 648 | acarau\n",
      "Processing Record 114 of 648 | louisbourg\n",
      "louisbourg City not found. Skipping...\n",
      "Processing Record 115 of 648 | amderma\n",
      "amderma City not found. Skipping...\n",
      "Processing Record 116 of 648 | barentsburg\n",
      "barentsburg City not found. Skipping...\n",
      "Processing Record 117 of 648 | lagoa\n",
      "Processing Record 118 of 648 | imbituba\n",
      "Processing Record 119 of 648 | yulara\n",
      "Processing Record 120 of 648 | mount gambier\n",
      "Processing Record 121 of 648 | anchorage\n",
      "Processing Record 122 of 648 | champerico\n",
      "Processing Record 123 of 648 | kavieng\n",
      "Processing Record 124 of 648 | khatanga\n",
      "Processing Record 125 of 648 | kaitangata\n",
      "Processing Record 126 of 648 | bredasdorp\n",
      "Processing Record 127 of 648 | port lincoln\n",
      "Processing Record 128 of 648 | tiksi\n",
      "Processing Record 129 of 648 | mercedes\n",
      "Processing Record 130 of 648 | finschhafen\n",
      "Processing Record 131 of 648 | ust-bolsheretsk\n",
      "ust-bolsheretsk City not found. Skipping...\n",
      "Processing Record 132 of 648 | christchurch\n",
      "Processing Record 133 of 648 | thompson\n",
      "Processing Record 134 of 648 | husavik\n",
      "Processing Record 135 of 648 | tarakan\n",
      "Processing Record 136 of 648 | severo-kurilsk\n",
      "Processing Record 137 of 648 | faanui\n",
      "Processing Record 138 of 648 | bumba\n",
      "Processing Record 139 of 648 | ambon\n",
      "Processing Record 140 of 648 | cartagena\n",
      "Processing Record 141 of 648 | krasnoselkup\n",
      "Processing Record 142 of 648 | santa cruz\n",
      "Processing Record 143 of 648 | port elizabeth\n",
      "Processing Record 144 of 648 | new norfolk\n",
      "Processing Record 145 of 648 | kumla\n",
      "Processing Record 146 of 648 | port hedland\n",
      "Processing Record 147 of 648 | zonguldak\n",
      "Processing Record 148 of 648 | muscat\n",
      "Processing Record 149 of 648 | norman wells\n",
      "Processing Record 150 of 648 | marau\n",
      "Processing Record 151 of 648 | wanaka\n",
      "Processing Record 152 of 648 | laem sing\n",
      "Processing Record 153 of 648 | georgetown\n",
      "Processing Record 154 of 648 | bengkulu\n",
      "Processing Record 155 of 648 | chilliwack\n",
      "Processing Record 156 of 648 | wolsztyn\n",
      "Processing Record 157 of 648 | datong\n",
      "Processing Record 158 of 648 | maragogi\n",
      "Processing Record 159 of 648 | dikson\n",
      "Processing Record 160 of 648 | ilulissat\n",
      "Processing Record 161 of 648 | shimanovsk\n",
      "Processing Record 162 of 648 | ulladulla\n",
      "Processing Record 163 of 648 | saint-philippe\n",
      "Processing Record 164 of 648 | belmonte\n",
      "Processing Record 165 of 648 | yellowknife\n",
      "Processing Record 166 of 648 | bambous virieux\n",
      "Processing Record 167 of 648 | berlevag\n",
      "Processing Record 168 of 648 | vila\n",
      "Processing Record 169 of 648 | sidi ali\n",
      "Processing Record 170 of 648 | tyrma\n",
      "Processing Record 171 of 648 | frontera\n",
      "Processing Record 172 of 648 | liverpool\n",
      "Processing Record 173 of 648 | buraydah\n",
      "Processing Record 174 of 648 | gobo\n",
      "Processing Record 175 of 648 | dubna\n",
      "Processing Record 176 of 648 | dirba\n",
      "Processing Record 177 of 648 | souillac\n",
      "Processing Record 178 of 648 | vaitape\n",
      "Processing Record 179 of 648 | beringovskiy\n",
      "Processing Record 180 of 648 | payakumbuh\n",
      "Processing Record 181 of 648 | havre-saint-pierre\n",
      "Processing Record 182 of 648 | guerrero negro\n",
      "Processing Record 183 of 648 | praia\n",
      "Processing Record 184 of 648 | ambodifototra\n",
      "ambodifototra City not found. Skipping...\n",
      "Processing Record 185 of 648 | sinjai\n",
      "Processing Record 186 of 648 | sorland\n",
      "Processing Record 187 of 648 | mkushi\n",
      "Processing Record 188 of 648 | tasiilaq\n"
     ]
    },
    {
     "name": "stdout",
     "output_type": "stream",
     "text": [
      "Processing Record 189 of 648 | jian\n",
      "Processing Record 190 of 648 | mpanda\n",
      "Processing Record 191 of 648 | necochea\n",
      "Processing Record 192 of 648 | broken hill\n",
      "Processing Record 193 of 648 | pacific grove\n",
      "Processing Record 194 of 648 | ola\n",
      "Processing Record 195 of 648 | aksu\n",
      "Processing Record 196 of 648 | tuatapere\n",
      "Processing Record 197 of 648 | juneau\n",
      "Processing Record 198 of 648 | waingapu\n",
      "Processing Record 199 of 648 | lavrentiya\n",
      "Processing Record 200 of 648 | manjacaze\n",
      "Processing Record 201 of 648 | ouesso\n",
      "Processing Record 202 of 648 | shaartuz\n",
      "shaartuz City not found. Skipping...\n",
      "Processing Record 203 of 648 | yarmouth\n",
      "Processing Record 204 of 648 | avera\n",
      "Processing Record 205 of 648 | henties bay\n",
      "Processing Record 206 of 648 | sorvag\n",
      "sorvag City not found. Skipping...\n",
      "Processing Record 207 of 648 | kafanchan\n",
      "Processing Record 208 of 648 | horki\n",
      "Processing Record 209 of 648 | mahon\n",
      "Processing Record 210 of 648 | kalmunai\n",
      "Processing Record 211 of 648 | killybegs\n",
      "Processing Record 212 of 648 | sheoganj\n",
      "Processing Record 213 of 648 | praya\n",
      "Processing Record 214 of 648 | vaasa\n",
      "Processing Record 215 of 648 | solnechnyy\n",
      "Processing Record 216 of 648 | lokosovo\n",
      "Processing Record 217 of 648 | yokadouma\n",
      "Processing Record 218 of 648 | bolungarvik\n",
      "bolungarvik City not found. Skipping...\n",
      "Processing Record 219 of 648 | arman\n",
      "Processing Record 220 of 648 | cidreira\n",
      "Processing Record 221 of 648 | suslovo\n",
      "Processing Record 222 of 648 | hobyo\n",
      "Processing Record 223 of 648 | antofagasta\n",
      "Processing Record 224 of 648 | barrow\n",
      "Processing Record 225 of 648 | san policarpo\n",
      "Processing Record 226 of 648 | halalo\n",
      "halalo City not found. Skipping...\n",
      "Processing Record 227 of 648 | zhigansk\n",
      "Processing Record 228 of 648 | nampula\n",
      "Processing Record 229 of 648 | saquena\n",
      "Processing Record 230 of 648 | buchanan\n",
      "Processing Record 231 of 648 | zabol\n",
      "Processing Record 232 of 648 | poronaysk\n",
      "Processing Record 233 of 648 | tsihombe\n",
      "tsihombe City not found. Skipping...\n",
      "Processing Record 234 of 648 | jalu\n",
      "Processing Record 235 of 648 | tymovskoye\n",
      "Processing Record 236 of 648 | charters towers\n",
      "Processing Record 237 of 648 | santa luzia\n",
      "Processing Record 238 of 648 | tottori\n",
      "Processing Record 239 of 648 | nakhon phanom\n",
      "Processing Record 240 of 648 | nikolskoye\n",
      "Processing Record 241 of 648 | vicksburg\n",
      "Processing Record 242 of 648 | san quintin\n",
      "Processing Record 243 of 648 | bonavista\n",
      "Processing Record 244 of 648 | matay\n",
      "Processing Record 245 of 648 | karauzyak\n",
      "karauzyak City not found. Skipping...\n",
      "Processing Record 246 of 648 | maarianhamina\n",
      "Processing Record 247 of 648 | hervey bay\n",
      "Processing Record 248 of 648 | hovd\n",
      "Processing Record 249 of 648 | sioux lookout\n",
      "Processing Record 250 of 648 | hohhot\n",
      "Processing Record 251 of 648 | vardo\n",
      "Processing Record 252 of 648 | tumannyy\n",
      "tumannyy City not found. Skipping...\n",
      "Processing Record 253 of 648 | coahuayana\n",
      "Processing Record 254 of 648 | badulla\n",
      "Processing Record 255 of 648 | cibitoke\n",
      "Processing Record 256 of 648 | qovlar\n",
      "Processing Record 257 of 648 | fereydunshahr\n",
      "Processing Record 258 of 648 | belyy yar\n",
      "Processing Record 259 of 648 | sampit\n",
      "Processing Record 260 of 648 | tunceli\n",
      "Processing Record 261 of 648 | kurilsk\n",
      "Processing Record 262 of 648 | menongue\n",
      "Processing Record 263 of 648 | warmbad\n",
      "Processing Record 264 of 648 | tessalit\n",
      "Processing Record 265 of 648 | puerto escondido\n",
      "Processing Record 266 of 648 | assiniboia\n",
      "Processing Record 267 of 648 | saint george\n",
      "Processing Record 268 of 648 | fare\n",
      "Processing Record 269 of 648 | vestmanna\n",
      "Processing Record 270 of 648 | ariquemes\n",
      "Processing Record 271 of 648 | grindavik\n",
      "Processing Record 272 of 648 | kloulklubed\n",
      "Processing Record 273 of 648 | heihe\n",
      "Processing Record 274 of 648 | choix\n",
      "Processing Record 275 of 648 | doba\n",
      "Processing Record 276 of 648 | pochutla\n",
      "Processing Record 277 of 648 | cazones\n",
      "Processing Record 278 of 648 | payo\n",
      "Processing Record 279 of 648 | tynset\n",
      "Processing Record 280 of 648 | rafai\n",
      "Processing Record 281 of 648 | alta floresta\n",
      "Processing Record 282 of 648 | albacete\n",
      "Processing Record 283 of 648 | madang\n",
      "Processing Record 284 of 648 | college\n",
      "Processing Record 285 of 648 | barguzin\n",
      "Processing Record 286 of 648 | paka\n",
      "Processing Record 287 of 648 | priiskovyy\n",
      "Processing Record 288 of 648 | tazovskiy\n",
      "Processing Record 289 of 648 | martin\n",
      "Processing Record 290 of 648 | pangkalanbuun\n",
      "Processing Record 291 of 648 | arraial do cabo\n",
      "Processing Record 292 of 648 | cabo san lucas\n",
      "Processing Record 293 of 648 | jiangyou\n",
      "Processing Record 294 of 648 | tual\n",
      "Processing Record 295 of 648 | sinnamary\n",
      "Processing Record 296 of 648 | hithadhoo\n",
      "Processing Record 297 of 648 | tazmalt\n",
      "Processing Record 298 of 648 | barabai\n",
      "Processing Record 299 of 648 | exeter\n",
      "Processing Record 300 of 648 | darhan\n",
      "Processing Record 301 of 648 | gold coast\n",
      "Processing Record 302 of 648 | esperance\n",
      "Processing Record 303 of 648 | massakory\n",
      "Processing Record 304 of 648 | juifang\n",
      "juifang City not found. Skipping...\n",
      "Processing Record 305 of 648 | port hardy\n",
      "Processing Record 306 of 648 | sola\n",
      "Processing Record 307 of 648 | conceicao do araguaia\n",
      "Processing Record 308 of 648 | tabasco\n",
      "Processing Record 309 of 648 | labuhan\n",
      "Processing Record 310 of 648 | fecamp\n",
      "Processing Record 311 of 648 | tahoua\n",
      "Processing Record 312 of 648 | nizwa\n",
      "Processing Record 313 of 648 | ligayan\n",
      "Processing Record 314 of 648 | saryshagan\n",
      "saryshagan City not found. Skipping...\n",
      "Processing Record 315 of 648 | santa barbara\n",
      "Processing Record 316 of 648 | zachagansk\n",
      "zachagansk City not found. Skipping...\n",
      "Processing Record 317 of 648 | kachikau\n",
      "kachikau City not found. Skipping...\n",
      "Processing Record 318 of 648 | fastiv\n",
      "Processing Record 319 of 648 | coihaique\n",
      "Processing Record 320 of 648 | paamiut\n",
      "Processing Record 321 of 648 | portland\n",
      "Processing Record 322 of 648 | kruisfontein\n",
      "Processing Record 323 of 648 | port augusta\n",
      "Processing Record 324 of 648 | porto novo\n",
      "Processing Record 325 of 648 | isangel\n",
      "Processing Record 326 of 648 | nishihara\n",
      "Processing Record 327 of 648 | lianzhou\n",
      "Processing Record 328 of 648 | genhe\n",
      "Processing Record 329 of 648 | biltine\n",
      "Processing Record 330 of 648 | andros town\n",
      "Processing Record 331 of 648 | arlit\n",
      "Processing Record 332 of 648 | touros\n",
      "Processing Record 333 of 648 | quatre cocos\n",
      "Processing Record 334 of 648 | ribeira grande\n",
      "Processing Record 335 of 648 | sechura\n",
      "Processing Record 336 of 648 | meyungs\n",
      "meyungs City not found. Skipping...\n",
      "Processing Record 337 of 648 | dingle\n",
      "Processing Record 338 of 648 | komsomolskiy\n",
      "Processing Record 339 of 648 | benjamin constant\n",
      "Processing Record 340 of 648 | tarsus\n",
      "Processing Record 341 of 648 | viedma\n",
      "Processing Record 342 of 648 | eisenberg\n",
      "Processing Record 343 of 648 | namatanai\n",
      "Processing Record 344 of 648 | gazojak\n",
      "Processing Record 345 of 648 | puerto montt\n",
      "Processing Record 346 of 648 | kutum\n",
      "Processing Record 347 of 648 | urucara\n",
      "Processing Record 348 of 648 | los llanos de aridane\n",
      "Processing Record 349 of 648 | hay river\n",
      "Processing Record 350 of 648 | trabzon\n",
      "Processing Record 351 of 648 | umm lajj\n",
      "Processing Record 352 of 648 | fortuna\n",
      "Processing Record 353 of 648 | salalah\n",
      "Processing Record 354 of 648 | plettenberg bay\n",
      "Processing Record 355 of 648 | ofaqim\n",
      "Processing Record 356 of 648 | ouadda\n",
      "Processing Record 357 of 648 | sao joao da barra\n",
      "Processing Record 358 of 648 | seoul\n",
      "Processing Record 359 of 648 | coos bay\n",
      "Processing Record 360 of 648 | yerbogachen\n",
      "Processing Record 361 of 648 | saldanha\n",
      "Processing Record 362 of 648 | anadyr\n",
      "Processing Record 363 of 648 | ormara\n",
      "Processing Record 364 of 648 | ngukurr\n",
      "ngukurr City not found. Skipping...\n",
      "Processing Record 365 of 648 | mongar\n",
      "Processing Record 366 of 648 | biak\n",
      "Processing Record 367 of 648 | mizan teferi\n",
      "Processing Record 368 of 648 | padang\n",
      "Processing Record 369 of 648 | leningradskiy\n",
      "Processing Record 370 of 648 | vrangel\n",
      "Processing Record 371 of 648 | tocopilla\n",
      "Processing Record 372 of 648 | zaragoza\n",
      "Processing Record 373 of 648 | sai buri\n",
      "Processing Record 374 of 648 | luderitz\n",
      "Processing Record 375 of 648 | rio grande\n",
      "Processing Record 376 of 648 | sao filipe\n",
      "Processing Record 377 of 648 | wad rawah\n",
      "Processing Record 378 of 648 | jenison\n",
      "Processing Record 379 of 648 | dunda\n",
      "Processing Record 380 of 648 | kraslava\n"
     ]
    },
    {
     "name": "stdout",
     "output_type": "stream",
     "text": [
      "Processing Record 381 of 648 | prince rupert\n",
      "Processing Record 382 of 648 | senador jose porfirio\n",
      "Processing Record 383 of 648 | vanimo\n",
      "Processing Record 384 of 648 | rawson\n",
      "Processing Record 385 of 648 | north bend\n",
      "Processing Record 386 of 648 | mayor pablo lagerenza\n",
      "Processing Record 387 of 648 | srednyaya yelyuzan\n",
      "Processing Record 388 of 648 | alyangula\n",
      "Processing Record 389 of 648 | lorengau\n",
      "Processing Record 390 of 648 | nemuro\n",
      "Processing Record 391 of 648 | lata\n",
      "Processing Record 392 of 648 | kirensk\n",
      "Processing Record 393 of 648 | tselinnoye\n",
      "Processing Record 394 of 648 | klaksvik\n",
      "Processing Record 395 of 648 | toliary\n",
      "toliary City not found. Skipping...\n",
      "Processing Record 396 of 648 | salinopolis\n",
      "Processing Record 397 of 648 | pontes e lacerda\n",
      "Processing Record 398 of 648 | sistranda\n",
      "Processing Record 399 of 648 | nome\n",
      "Processing Record 400 of 648 | meulaboh\n",
      "Processing Record 401 of 648 | umzimvubu\n",
      "umzimvubu City not found. Skipping...\n",
      "Processing Record 402 of 648 | tanout\n",
      "Processing Record 403 of 648 | tabarqah\n",
      "tabarqah City not found. Skipping...\n",
      "Processing Record 404 of 648 | sambava\n",
      "Processing Record 405 of 648 | namibe\n",
      "Processing Record 406 of 648 | rincon\n",
      "Processing Record 407 of 648 | leskovac\n",
      "Processing Record 408 of 648 | partizanskoye\n",
      "Processing Record 409 of 648 | mansa\n",
      "Processing Record 410 of 648 | pahrump\n",
      "Processing Record 411 of 648 | poum\n",
      "Processing Record 412 of 648 | mabai\n",
      "Processing Record 413 of 648 | ileza\n",
      "Processing Record 414 of 648 | altay\n",
      "Processing Record 415 of 648 | korgen\n",
      "Processing Record 416 of 648 | washington\n",
      "Processing Record 417 of 648 | ayagoz\n",
      "Processing Record 418 of 648 | bay city\n",
      "Processing Record 419 of 648 | dandong\n",
      "Processing Record 420 of 648 | kristinehamn\n",
      "Processing Record 421 of 648 | rokytne\n",
      "Processing Record 422 of 648 | saint anthony\n",
      "Processing Record 423 of 648 | tahta\n",
      "Processing Record 424 of 648 | fevralsk\n",
      "fevralsk City not found. Skipping...\n",
      "Processing Record 425 of 648 | kazuno\n",
      "Processing Record 426 of 648 | margate\n",
      "Processing Record 427 of 648 | ijaki\n",
      "ijaki City not found. Skipping...\n",
      "Processing Record 428 of 648 | rehoboth\n",
      "Processing Record 429 of 648 | tolmachevo\n",
      "Processing Record 430 of 648 | muisne\n",
      "Processing Record 431 of 648 | pszczyna\n",
      "Processing Record 432 of 648 | kribi\n",
      "Processing Record 433 of 648 | morro bay\n",
      "Processing Record 434 of 648 | havelock\n",
      "Processing Record 435 of 648 | santa vitoria\n",
      "Processing Record 436 of 648 | attawapiskat\n",
      "attawapiskat City not found. Skipping...\n",
      "Processing Record 437 of 648 | gorontalo\n",
      "Processing Record 438 of 648 | bontang\n",
      "Processing Record 439 of 648 | campbellton\n",
      "Processing Record 440 of 648 | willowmore\n",
      "Processing Record 441 of 648 | aykhal\n",
      "Processing Record 442 of 648 | camocim\n",
      "Processing Record 443 of 648 | muros\n",
      "Processing Record 444 of 648 | sayat\n",
      "Processing Record 445 of 648 | estrela\n",
      "Processing Record 446 of 648 | camapua\n",
      "Processing Record 447 of 648 | temyasovo\n",
      "Processing Record 448 of 648 | nanakuli\n",
      "Processing Record 449 of 648 | neuquen\n",
      "Processing Record 450 of 648 | marcona\n",
      "marcona City not found. Skipping...\n",
      "Processing Record 451 of 648 | maumere\n",
      "Processing Record 452 of 648 | port-cartier\n",
      "Processing Record 453 of 648 | gigmoto\n",
      "Processing Record 454 of 648 | kirakira\n",
      "Processing Record 455 of 648 | kumukh\n",
      "Processing Record 456 of 648 | provideniya\n",
      "Processing Record 457 of 648 | tabiauea\n",
      "tabiauea City not found. Skipping...\n",
      "Processing Record 458 of 648 | tshikapa\n",
      "Processing Record 459 of 648 | cape coast\n",
      "Processing Record 460 of 648 | ixtapa\n",
      "Processing Record 461 of 648 | deputatskiy\n",
      "Processing Record 462 of 648 | fort nelson\n",
      "Processing Record 463 of 648 | san cristobal\n",
      "Processing Record 464 of 648 | alofi\n",
      "Processing Record 465 of 648 | hasaki\n",
      "Processing Record 466 of 648 | tobol\n",
      "Processing Record 467 of 648 | adelaide\n",
      "Processing Record 468 of 648 | xicotencatl\n",
      "Processing Record 469 of 648 | marsa matruh\n",
      "Processing Record 470 of 648 | sfantu gheorghe\n",
      "Processing Record 471 of 648 | jiuquan\n",
      "Processing Record 472 of 648 | hinton\n",
      "Processing Record 473 of 648 | hirara\n",
      "Processing Record 474 of 648 | pisco\n",
      "Processing Record 475 of 648 | rio gallegos\n",
      "Processing Record 476 of 648 | sur\n",
      "Processing Record 477 of 648 | lahat\n",
      "Processing Record 478 of 648 | mahajanga\n",
      "Processing Record 479 of 648 | axim\n",
      "Processing Record 480 of 648 | ambilobe\n",
      "Processing Record 481 of 648 | polyarnyy\n",
      "Processing Record 482 of 648 | tena\n",
      "Processing Record 483 of 648 | soyo\n",
      "Processing Record 484 of 648 | barcelos\n",
      "Processing Record 485 of 648 | xifeng\n",
      "Processing Record 486 of 648 | ostrovnoy\n",
      "Processing Record 487 of 648 | udomlya\n",
      "Processing Record 488 of 648 | pokhara\n",
      "Processing Record 489 of 648 | katobu\n",
      "Processing Record 490 of 648 | bloemfontein\n",
      "Processing Record 491 of 648 | brewster\n",
      "Processing Record 492 of 648 | fort frances\n",
      "Processing Record 493 of 648 | umm kaddadah\n",
      "Processing Record 494 of 648 | shawnee\n",
      "Processing Record 495 of 648 | nefteyugansk\n",
      "Processing Record 496 of 648 | matagami\n",
      "Processing Record 497 of 648 | svetlyy\n",
      "Processing Record 498 of 648 | manggar\n",
      "Processing Record 499 of 648 | slave lake\n",
      "Processing Record 500 of 648 | luganville\n",
      "Processing Record 501 of 648 | itanhem\n",
      "Processing Record 502 of 648 | pont-a-mousson\n",
      "Processing Record 503 of 648 | cairns\n",
      "Processing Record 504 of 648 | khandyga\n",
      "Processing Record 505 of 648 | mehamn\n",
      "Processing Record 506 of 648 | chuguyevka\n",
      "Processing Record 507 of 648 | nabire\n",
      "Processing Record 508 of 648 | watsa\n",
      "Processing Record 509 of 648 | seymchan\n",
      "Processing Record 510 of 648 | cascais\n",
      "Processing Record 511 of 648 | hokitika\n",
      "Processing Record 512 of 648 | sorong\n",
      "Processing Record 513 of 648 | kirkwall\n",
      "Processing Record 514 of 648 | deep river\n",
      "Processing Record 515 of 648 | sidhi\n",
      "Processing Record 516 of 648 | uppsala\n",
      "Processing Record 517 of 648 | port macquarie\n",
      "Processing Record 518 of 648 | bozhou\n",
      "Processing Record 519 of 648 | zhengjiatun\n",
      "Processing Record 520 of 648 | takapau\n",
      "Processing Record 521 of 648 | asau\n",
      "Processing Record 522 of 648 | yendi\n",
      "Processing Record 523 of 648 | qena\n",
      "Processing Record 524 of 648 | torbay\n",
      "Processing Record 525 of 648 | puerto penasco\n",
      "Processing Record 526 of 648 | east brainerd\n",
      "Processing Record 527 of 648 | liliani\n",
      "Processing Record 528 of 648 | paucartambo\n",
      "paucartambo City not found. Skipping...\n",
      "Processing Record 529 of 648 | berbera\n",
      "Processing Record 530 of 648 | bolobo\n",
      "Processing Record 531 of 648 | ust-omchug\n",
      "Processing Record 532 of 648 | mgandu\n",
      "Processing Record 533 of 648 | lazaro cardenas\n",
      "Processing Record 534 of 648 | lowestoft\n",
      "Processing Record 535 of 648 | lodja\n",
      "Processing Record 536 of 648 | teluknaga\n",
      "Processing Record 537 of 648 | sobolevo\n",
      "Processing Record 538 of 648 | pembroke\n",
      "Processing Record 539 of 648 | flagstaff\n",
      "Processing Record 540 of 648 | havre\n",
      "Processing Record 541 of 648 | kismayo\n",
      "Processing Record 542 of 648 | kamenskoye\n",
      "kamenskoye City not found. Skipping...\n",
      "Processing Record 543 of 648 | bundaberg\n",
      "Processing Record 544 of 648 | vieste\n",
      "Processing Record 545 of 648 | fallon\n",
      "Processing Record 546 of 648 | benicarlo\n",
      "Processing Record 547 of 648 | lompoc\n",
      "Processing Record 548 of 648 | bilibino\n",
      "Processing Record 549 of 648 | termoli\n",
      "Processing Record 550 of 648 | nouadhibou\n",
      "Processing Record 551 of 648 | charagua\n",
      "Processing Record 552 of 648 | valparaiso\n",
      "Processing Record 553 of 648 | vao\n",
      "Processing Record 554 of 648 | balakovo\n",
      "Processing Record 555 of 648 | libenge\n",
      "Processing Record 556 of 648 | aasiaat\n",
      "Processing Record 557 of 648 | synya\n",
      "Processing Record 558 of 648 | martyush\n",
      "Processing Record 559 of 648 | kazerun\n",
      "Processing Record 560 of 648 | karatuzskoye\n",
      "Processing Record 561 of 648 | aranos\n",
      "Processing Record 562 of 648 | atbasar\n",
      "Processing Record 563 of 648 | rudnogorsk\n",
      "Processing Record 564 of 648 | sembakung\n",
      "Processing Record 565 of 648 | huarmey\n",
      "Processing Record 566 of 648 | neiafu\n",
      "Processing Record 567 of 648 | ciras\n",
      "ciras City not found. Skipping...\n",
      "Processing Record 568 of 648 | lagos\n",
      "Processing Record 569 of 648 | saint-leu\n",
      "Processing Record 570 of 648 | baturaja\n",
      "Processing Record 571 of 648 | panaba\n",
      "Processing Record 572 of 648 | muika\n",
      "muika City not found. Skipping...\n",
      "Processing Record 573 of 648 | bur gabo\n",
      "bur gabo City not found. Skipping...\n"
     ]
    },
    {
     "name": "stdout",
     "output_type": "stream",
     "text": [
      "Processing Record 574 of 648 | port shepstone\n",
      "Processing Record 575 of 648 | vanavara\n",
      "Processing Record 576 of 648 | dwarka\n",
      "Processing Record 577 of 648 | abu jubayhah\n",
      "abu jubayhah City not found. Skipping...\n",
      "Processing Record 578 of 648 | chapais\n",
      "Processing Record 579 of 648 | leua\n",
      "Processing Record 580 of 648 | el mahalla el kubra\n",
      "el mahalla el kubra City not found. Skipping...\n",
      "Processing Record 581 of 648 | skibbereen\n",
      "Processing Record 582 of 648 | skjervoy\n",
      "Processing Record 583 of 648 | hammerfest\n",
      "Processing Record 584 of 648 | starkville\n",
      "Processing Record 585 of 648 | ribas do rio pardo\n",
      "Processing Record 586 of 648 | xichang\n",
      "Processing Record 587 of 648 | vallenar\n",
      "Processing Record 588 of 648 | guozhen\n",
      "Processing Record 589 of 648 | zig\n",
      "Processing Record 590 of 648 | mandalgovi\n",
      "Processing Record 591 of 648 | korla\n",
      "Processing Record 592 of 648 | itarema\n",
      "Processing Record 593 of 648 | oskemen\n",
      "Processing Record 594 of 648 | morondava\n",
      "Processing Record 595 of 648 | pangody\n",
      "Processing Record 596 of 648 | murdochville\n",
      "Processing Record 597 of 648 | along\n",
      "Processing Record 598 of 648 | lolua\n",
      "lolua City not found. Skipping...\n",
      "Processing Record 599 of 648 | sinegorskiy\n",
      "Processing Record 600 of 648 | camopi\n",
      "Processing Record 601 of 648 | yining\n",
      "Processing Record 602 of 648 | okato\n",
      "Processing Record 603 of 648 | rostovka\n",
      "Processing Record 604 of 648 | petropavlovsk-kamchatskiy\n",
      "Processing Record 605 of 648 | itupiranga\n",
      "Processing Record 606 of 648 | kemijarvi\n",
      "Processing Record 607 of 648 | hamilton\n",
      "Processing Record 608 of 648 | cowra\n",
      "Processing Record 609 of 648 | zyryanka\n",
      "Processing Record 610 of 648 | owensboro\n",
      "Processing Record 611 of 648 | alamos\n",
      "Processing Record 612 of 648 | kirovskiy\n",
      "Processing Record 613 of 648 | samarai\n",
      "Processing Record 614 of 648 | saint-raymond\n",
      "Processing Record 615 of 648 | pilar\n",
      "Processing Record 616 of 648 | vryburg\n",
      "Processing Record 617 of 648 | saint-pierre\n",
      "Processing Record 618 of 648 | kjopsvik\n",
      "Processing Record 619 of 648 | labutta\n",
      "labutta City not found. Skipping...\n",
      "Processing Record 620 of 648 | kalabo\n",
      "Processing Record 621 of 648 | kerikeri\n",
      "Processing Record 622 of 648 | narok\n",
      "Processing Record 623 of 648 | bintulu\n",
      "Processing Record 624 of 648 | haines junction\n",
      "Processing Record 625 of 648 | dongsheng\n",
      "Processing Record 626 of 648 | gat\n",
      "Processing Record 627 of 648 | santiago del estero\n",
      "Processing Record 628 of 648 | talcahuano\n",
      "Processing Record 629 of 648 | lamar\n",
      "Processing Record 630 of 648 | whitehorse\n",
      "Processing Record 631 of 648 | sarangani\n",
      "Processing Record 632 of 648 | beyneu\n",
      "Processing Record 633 of 648 | comodoro rivadavia\n",
      "Processing Record 634 of 648 | agropoli\n",
      "Processing Record 635 of 648 | mitu\n",
      "Processing Record 636 of 648 | dubenskiy\n",
      "dubenskiy City not found. Skipping...\n",
      "Processing Record 637 of 648 | thinadhoo\n",
      "Processing Record 638 of 648 | chokurdakh\n",
      "Processing Record 639 of 648 | malwan\n",
      "malwan City not found. Skipping...\n",
      "Processing Record 640 of 648 | mocuba\n",
      "Processing Record 641 of 648 | saleaula\n",
      "saleaula City not found. Skipping...\n",
      "Processing Record 642 of 648 | puerto madryn\n",
      "Processing Record 643 of 648 | amapa\n",
      "Processing Record 644 of 648 | westport\n",
      "Processing Record 645 of 648 | klyuchevskiy\n",
      "Processing Record 646 of 648 | lyubech\n",
      "Processing Record 647 of 648 | asuncion\n",
      "Processing Record 648 of 648 | neepawa\n"
     ]
    }
   ],
   "source": [
    "# Set empty lists\n",
    "city_name = []\n",
    "lat = []\n",
    "lng = []\n",
    "max_temp = []\n",
    "humidity = []\n",
    "cloudiness = []\n",
    "wind_speed = []\n",
    "country = []\n",
    "date = []\n",
    "\n",
    "count=1\n",
    "\n",
    "print('Beginning Data Retrieval')     \n",
    "print('-----------------------------')\n",
    "\n",
    "for city in cities:\n",
    "        response=requests.get(query_url + city).json()\n",
    "        \n",
    "        print('Processing Record ' + str(count) + ' of ' + str(len(cities)) + ' | ' + city)\n",
    "        \n",
    "        try:\n",
    "            city_name.append(response['name'])\n",
    "            lat.append(response['coord']['lat'])\n",
    "            lng.append(response['coord']['lon'])  \n",
    "            max_temp.append(response['main']['temp_max'])\n",
    "            humidity.append(response['main']['humidity'])  \n",
    "            cloudiness.append(response['clouds']['all'])\n",
    "            wind_speed.append(response['wind']['speed'])   \n",
    "            country.append(response['sys']['country'])\n",
    "            date.append(response['dt'])     \n",
    "    \n",
    "        except KeyError:\n",
    "            \n",
    "            print(city + ' City not found. Skipping...') \n",
    "            \n",
    "        count=count+1"
   ]
  },
  {
   "cell_type": "markdown",
   "metadata": {},
   "source": [
    "### Convert Raw Data to DataFrame\n",
    "* Export the city data into a .csv.\n",
    "* Display the DataFrame"
   ]
  },
  {
   "cell_type": "code",
   "execution_count": 6,
   "metadata": {
    "scrolled": true
   },
   "outputs": [
    {
     "data": {
      "text/html": [
       "<div>\n",
       "<style scoped>\n",
       "    .dataframe tbody tr th:only-of-type {\n",
       "        vertical-align: middle;\n",
       "    }\n",
       "\n",
       "    .dataframe tbody tr th {\n",
       "        vertical-align: top;\n",
       "    }\n",
       "\n",
       "    .dataframe thead th {\n",
       "        text-align: right;\n",
       "    }\n",
       "</style>\n",
       "<table border=\"1\" class=\"dataframe\">\n",
       "  <thead>\n",
       "    <tr style=\"text-align: right;\">\n",
       "      <th></th>\n",
       "      <th>City</th>\n",
       "      <th>Lat</th>\n",
       "      <th>Lng</th>\n",
       "      <th>Max Temp</th>\n",
       "      <th>Humidity</th>\n",
       "      <th>Cloudiness</th>\n",
       "      <th>Wind Speed</th>\n",
       "      <th>Country</th>\n",
       "      <th>Date</th>\n",
       "    </tr>\n",
       "  </thead>\n",
       "  <tbody>\n",
       "    <tr>\n",
       "      <th>0</th>\n",
       "      <td>Geraldton</td>\n",
       "      <td>-28.7667</td>\n",
       "      <td>114.6000</td>\n",
       "      <td>68.00</td>\n",
       "      <td>83</td>\n",
       "      <td>75</td>\n",
       "      <td>14.97</td>\n",
       "      <td>AU</td>\n",
       "      <td>1619718746</td>\n",
       "    </tr>\n",
       "    <tr>\n",
       "      <th>1</th>\n",
       "      <td>Mahébourg</td>\n",
       "      <td>-20.4081</td>\n",
       "      <td>57.7000</td>\n",
       "      <td>75.20</td>\n",
       "      <td>94</td>\n",
       "      <td>75</td>\n",
       "      <td>13.80</td>\n",
       "      <td>MU</td>\n",
       "      <td>1619718746</td>\n",
       "    </tr>\n",
       "    <tr>\n",
       "      <th>2</th>\n",
       "      <td>East London</td>\n",
       "      <td>-33.0153</td>\n",
       "      <td>27.9116</td>\n",
       "      <td>59.00</td>\n",
       "      <td>100</td>\n",
       "      <td>20</td>\n",
       "      <td>12.66</td>\n",
       "      <td>ZA</td>\n",
       "      <td>1619718747</td>\n",
       "    </tr>\n",
       "    <tr>\n",
       "      <th>3</th>\n",
       "      <td>Busselton</td>\n",
       "      <td>-33.6500</td>\n",
       "      <td>115.3333</td>\n",
       "      <td>50.00</td>\n",
       "      <td>97</td>\n",
       "      <td>86</td>\n",
       "      <td>1.01</td>\n",
       "      <td>AU</td>\n",
       "      <td>1619718747</td>\n",
       "    </tr>\n",
       "    <tr>\n",
       "      <th>4</th>\n",
       "      <td>Castro</td>\n",
       "      <td>-24.7911</td>\n",
       "      <td>-50.0119</td>\n",
       "      <td>68.18</td>\n",
       "      <td>46</td>\n",
       "      <td>2</td>\n",
       "      <td>7.58</td>\n",
       "      <td>BR</td>\n",
       "      <td>1619718748</td>\n",
       "    </tr>\n",
       "    <tr>\n",
       "      <th>5</th>\n",
       "      <td>Leh</td>\n",
       "      <td>34.1667</td>\n",
       "      <td>77.5833</td>\n",
       "      <td>39.83</td>\n",
       "      <td>44</td>\n",
       "      <td>78</td>\n",
       "      <td>2.59</td>\n",
       "      <td>IN</td>\n",
       "      <td>1619718748</td>\n",
       "    </tr>\n",
       "    <tr>\n",
       "      <th>6</th>\n",
       "      <td>Bethel</td>\n",
       "      <td>41.3712</td>\n",
       "      <td>-73.4140</td>\n",
       "      <td>69.80</td>\n",
       "      <td>73</td>\n",
       "      <td>75</td>\n",
       "      <td>6.91</td>\n",
       "      <td>US</td>\n",
       "      <td>1619718101</td>\n",
       "    </tr>\n",
       "    <tr>\n",
       "      <th>7</th>\n",
       "      <td>Punta Arenas</td>\n",
       "      <td>-53.1500</td>\n",
       "      <td>-70.9167</td>\n",
       "      <td>42.80</td>\n",
       "      <td>70</td>\n",
       "      <td>0</td>\n",
       "      <td>4.61</td>\n",
       "      <td>CL</td>\n",
       "      <td>1619718162</td>\n",
       "    </tr>\n",
       "    <tr>\n",
       "      <th>8</th>\n",
       "      <td>Bowen</td>\n",
       "      <td>-20.0167</td>\n",
       "      <td>148.2333</td>\n",
       "      <td>66.20</td>\n",
       "      <td>94</td>\n",
       "      <td>90</td>\n",
       "      <td>4.61</td>\n",
       "      <td>AU</td>\n",
       "      <td>1619718748</td>\n",
       "    </tr>\n",
       "    <tr>\n",
       "      <th>9</th>\n",
       "      <td>Ternate</td>\n",
       "      <td>0.8000</td>\n",
       "      <td>127.4000</td>\n",
       "      <td>81.00</td>\n",
       "      <td>77</td>\n",
       "      <td>100</td>\n",
       "      <td>1.32</td>\n",
       "      <td>ID</td>\n",
       "      <td>1619718749</td>\n",
       "    </tr>\n",
       "  </tbody>\n",
       "</table>\n",
       "</div>"
      ],
      "text/plain": [
       "           City      Lat       Lng  Max Temp  Humidity  Cloudiness  \\\n",
       "0     Geraldton -28.7667  114.6000     68.00        83          75   \n",
       "1     Mahébourg -20.4081   57.7000     75.20        94          75   \n",
       "2   East London -33.0153   27.9116     59.00       100          20   \n",
       "3     Busselton -33.6500  115.3333     50.00        97          86   \n",
       "4        Castro -24.7911  -50.0119     68.18        46           2   \n",
       "5           Leh  34.1667   77.5833     39.83        44          78   \n",
       "6        Bethel  41.3712  -73.4140     69.80        73          75   \n",
       "7  Punta Arenas -53.1500  -70.9167     42.80        70           0   \n",
       "8         Bowen -20.0167  148.2333     66.20        94          90   \n",
       "9       Ternate   0.8000  127.4000     81.00        77         100   \n",
       "\n",
       "   Wind Speed Country        Date  \n",
       "0       14.97      AU  1619718746  \n",
       "1       13.80      MU  1619718746  \n",
       "2       12.66      ZA  1619718747  \n",
       "3        1.01      AU  1619718747  \n",
       "4        7.58      BR  1619718748  \n",
       "5        2.59      IN  1619718748  \n",
       "6        6.91      US  1619718101  \n",
       "7        4.61      CL  1619718162  \n",
       "8        4.61      AU  1619718748  \n",
       "9        1.32      ID  1619718749  "
      ]
     },
     "execution_count": 6,
     "metadata": {},
     "output_type": "execute_result"
    }
   ],
   "source": [
    "weather_dict = {\n",
    "    \"City\": city_name,\n",
    "    \"Lat\": lat,\n",
    "    \"Lng\": lng,\n",
    "    \"Max Temp\": max_temp,\n",
    "    \"Humidity\": humidity,\n",
    "    \"Cloudiness\": cloudiness,\n",
    "    \"Wind Speed\": wind_speed,\n",
    "    \"Country\": country,\n",
    "    \"Date\": date\n",
    "}\n",
    "weather_data = pd.DataFrame(weather_dict)\n",
    "weather_data.head(10)"
   ]
  },
  {
   "cell_type": "code",
   "execution_count": 7,
   "metadata": {},
   "outputs": [],
   "source": [
    "weather_data = weather_data.dropna(how='any')"
   ]
  },
  {
   "cell_type": "code",
   "execution_count": 8,
   "metadata": {},
   "outputs": [],
   "source": [
    "weather_data.to_csv(\"Output/weather_data.csv\", index=False, header=True)"
   ]
  },
  {
   "cell_type": "code",
   "execution_count": 9,
   "metadata": {},
   "outputs": [
    {
     "data": {
      "text/html": [
       "<div>\n",
       "<style scoped>\n",
       "    .dataframe tbody tr th:only-of-type {\n",
       "        vertical-align: middle;\n",
       "    }\n",
       "\n",
       "    .dataframe tbody tr th {\n",
       "        vertical-align: top;\n",
       "    }\n",
       "\n",
       "    .dataframe thead th {\n",
       "        text-align: right;\n",
       "    }\n",
       "</style>\n",
       "<table border=\"1\" class=\"dataframe\">\n",
       "  <thead>\n",
       "    <tr style=\"text-align: right;\">\n",
       "      <th></th>\n",
       "      <th>Lat</th>\n",
       "      <th>Lng</th>\n",
       "      <th>Max Temp</th>\n",
       "      <th>Humidity</th>\n",
       "      <th>Cloudiness</th>\n",
       "      <th>Wind Speed</th>\n",
       "      <th>Date</th>\n",
       "    </tr>\n",
       "  </thead>\n",
       "  <tbody>\n",
       "    <tr>\n",
       "      <th>count</th>\n",
       "      <td>599.000000</td>\n",
       "      <td>599.000000</td>\n",
       "      <td>599.000000</td>\n",
       "      <td>599.000000</td>\n",
       "      <td>599.000000</td>\n",
       "      <td>599.000000</td>\n",
       "      <td>5.990000e+02</td>\n",
       "    </tr>\n",
       "    <tr>\n",
       "      <th>mean</th>\n",
       "      <td>19.908777</td>\n",
       "      <td>19.964595</td>\n",
       "      <td>62.330100</td>\n",
       "      <td>68.876461</td>\n",
       "      <td>58.530885</td>\n",
       "      <td>7.341336</td>\n",
       "      <td>1.619719e+09</td>\n",
       "    </tr>\n",
       "    <tr>\n",
       "      <th>std</th>\n",
       "      <td>33.864188</td>\n",
       "      <td>90.960416</td>\n",
       "      <td>19.927788</td>\n",
       "      <td>22.907289</td>\n",
       "      <td>36.059204</td>\n",
       "      <td>4.773001</td>\n",
       "      <td>9.410278e+01</td>\n",
       "    </tr>\n",
       "    <tr>\n",
       "      <th>min</th>\n",
       "      <td>-54.800000</td>\n",
       "      <td>-175.200000</td>\n",
       "      <td>-1.710000</td>\n",
       "      <td>4.000000</td>\n",
       "      <td>0.000000</td>\n",
       "      <td>0.090000</td>\n",
       "      <td>1.619718e+09</td>\n",
       "    </tr>\n",
       "    <tr>\n",
       "      <th>25%</th>\n",
       "      <td>-6.250200</td>\n",
       "      <td>-61.411400</td>\n",
       "      <td>48.100000</td>\n",
       "      <td>54.000000</td>\n",
       "      <td>20.000000</td>\n",
       "      <td>4.000000</td>\n",
       "      <td>1.619719e+09</td>\n",
       "    </tr>\n",
       "    <tr>\n",
       "      <th>50%</th>\n",
       "      <td>25.021300</td>\n",
       "      <td>23.916700</td>\n",
       "      <td>66.130000</td>\n",
       "      <td>73.000000</td>\n",
       "      <td>75.000000</td>\n",
       "      <td>6.350000</td>\n",
       "      <td>1.619719e+09</td>\n",
       "    </tr>\n",
       "    <tr>\n",
       "      <th>75%</th>\n",
       "      <td>49.608350</td>\n",
       "      <td>102.968400</td>\n",
       "      <td>77.980000</td>\n",
       "      <td>87.000000</td>\n",
       "      <td>90.000000</td>\n",
       "      <td>9.980000</td>\n",
       "      <td>1.619719e+09</td>\n",
       "    </tr>\n",
       "    <tr>\n",
       "      <th>max</th>\n",
       "      <td>78.218600</td>\n",
       "      <td>179.316700</td>\n",
       "      <td>105.800000</td>\n",
       "      <td>100.000000</td>\n",
       "      <td>100.000000</td>\n",
       "      <td>31.290000</td>\n",
       "      <td>1.619719e+09</td>\n",
       "    </tr>\n",
       "  </tbody>\n",
       "</table>\n",
       "</div>"
      ],
      "text/plain": [
       "              Lat         Lng    Max Temp    Humidity  Cloudiness  Wind Speed  \\\n",
       "count  599.000000  599.000000  599.000000  599.000000  599.000000  599.000000   \n",
       "mean    19.908777   19.964595   62.330100   68.876461   58.530885    7.341336   \n",
       "std     33.864188   90.960416   19.927788   22.907289   36.059204    4.773001   \n",
       "min    -54.800000 -175.200000   -1.710000    4.000000    0.000000    0.090000   \n",
       "25%     -6.250200  -61.411400   48.100000   54.000000   20.000000    4.000000   \n",
       "50%     25.021300   23.916700   66.130000   73.000000   75.000000    6.350000   \n",
       "75%     49.608350  102.968400   77.980000   87.000000   90.000000    9.980000   \n",
       "max     78.218600  179.316700  105.800000  100.000000  100.000000   31.290000   \n",
       "\n",
       "               Date  \n",
       "count  5.990000e+02  \n",
       "mean   1.619719e+09  \n",
       "std    9.410278e+01  \n",
       "min    1.619718e+09  \n",
       "25%    1.619719e+09  \n",
       "50%    1.619719e+09  \n",
       "75%    1.619719e+09  \n",
       "max    1.619719e+09  "
      ]
     },
     "execution_count": 9,
     "metadata": {},
     "output_type": "execute_result"
    }
   ],
   "source": [
    "weather_data.describe()"
   ]
  },
  {
   "cell_type": "markdown",
   "metadata": {},
   "source": [
    "## Inspect the data and remove the cities where the humidity > 100%.\n",
    "----\n",
    "Skip this step if there are no cities that have humidity > 100%. "
   ]
  },
  {
   "cell_type": "code",
   "execution_count": 18,
   "metadata": {
    "scrolled": false
   },
   "outputs": [
    {
     "data": {
      "text/html": [
       "<div>\n",
       "<style scoped>\n",
       "    .dataframe tbody tr th:only-of-type {\n",
       "        vertical-align: middle;\n",
       "    }\n",
       "\n",
       "    .dataframe tbody tr th {\n",
       "        vertical-align: top;\n",
       "    }\n",
       "\n",
       "    .dataframe thead th {\n",
       "        text-align: right;\n",
       "    }\n",
       "</style>\n",
       "<table border=\"1\" class=\"dataframe\">\n",
       "  <thead>\n",
       "    <tr style=\"text-align: right;\">\n",
       "      <th></th>\n",
       "      <th>City</th>\n",
       "      <th>Lat</th>\n",
       "      <th>Lng</th>\n",
       "      <th>Max Temp</th>\n",
       "      <th>Humidity</th>\n",
       "      <th>Cloudiness</th>\n",
       "      <th>Wind Speed</th>\n",
       "      <th>Country</th>\n",
       "      <th>Date</th>\n",
       "    </tr>\n",
       "  </thead>\n",
       "  <tbody>\n",
       "  </tbody>\n",
       "</table>\n",
       "</div>"
      ],
      "text/plain": [
       "Empty DataFrame\n",
       "Columns: [City, Lat, Lng, Max Temp, Humidity, Cloudiness, Wind Speed, Country, Date]\n",
       "Index: []"
      ]
     },
     "execution_count": 18,
     "metadata": {},
     "output_type": "execute_result"
    }
   ],
   "source": [
    "#  Get the indices of cities that have humidity over 100%.\n",
    "humidity_100 = weather_data.loc[weather_data[\"Humidity\"] > 100]\n",
    "humidity_100"
   ]
  },
  {
   "cell_type": "code",
   "execution_count": 19,
   "metadata": {},
   "outputs": [
    {
     "data": {
      "text/html": [
       "<div>\n",
       "<style scoped>\n",
       "    .dataframe tbody tr th:only-of-type {\n",
       "        vertical-align: middle;\n",
       "    }\n",
       "\n",
       "    .dataframe tbody tr th {\n",
       "        vertical-align: top;\n",
       "    }\n",
       "\n",
       "    .dataframe thead th {\n",
       "        text-align: right;\n",
       "    }\n",
       "</style>\n",
       "<table border=\"1\" class=\"dataframe\">\n",
       "  <thead>\n",
       "    <tr style=\"text-align: right;\">\n",
       "      <th></th>\n",
       "      <th>City</th>\n",
       "      <th>Lat</th>\n",
       "      <th>Lng</th>\n",
       "      <th>Max Temp</th>\n",
       "      <th>Humidity</th>\n",
       "      <th>Cloudiness</th>\n",
       "      <th>Wind Speed</th>\n",
       "      <th>Country</th>\n",
       "      <th>Date</th>\n",
       "    </tr>\n",
       "  </thead>\n",
       "  <tbody>\n",
       "    <tr>\n",
       "      <td>0</td>\n",
       "      <td>butaritari</td>\n",
       "      <td>3.07</td>\n",
       "      <td>172.79</td>\n",
       "      <td>83.32</td>\n",
       "      <td>74</td>\n",
       "      <td>84</td>\n",
       "      <td>10.42</td>\n",
       "      <td>KI</td>\n",
       "      <td>1593605283</td>\n",
       "    </tr>\n",
       "    <tr>\n",
       "      <td>1</td>\n",
       "      <td>yerbogachen</td>\n",
       "      <td>61.28</td>\n",
       "      <td>108.01</td>\n",
       "      <td>79.52</td>\n",
       "      <td>58</td>\n",
       "      <td>20</td>\n",
       "      <td>7.70</td>\n",
       "      <td>RU</td>\n",
       "      <td>1593605121</td>\n",
       "    </tr>\n",
       "    <tr>\n",
       "      <td>2</td>\n",
       "      <td>cape town</td>\n",
       "      <td>-33.93</td>\n",
       "      <td>18.42</td>\n",
       "      <td>73.00</td>\n",
       "      <td>77</td>\n",
       "      <td>27</td>\n",
       "      <td>4.70</td>\n",
       "      <td>ZA</td>\n",
       "      <td>1593605039</td>\n",
       "    </tr>\n",
       "    <tr>\n",
       "      <td>3</td>\n",
       "      <td>touba</td>\n",
       "      <td>8.28</td>\n",
       "      <td>-7.68</td>\n",
       "      <td>79.97</td>\n",
       "      <td>75</td>\n",
       "      <td>82</td>\n",
       "      <td>3.58</td>\n",
       "      <td>CI</td>\n",
       "      <td>1593605284</td>\n",
       "    </tr>\n",
       "    <tr>\n",
       "      <td>4</td>\n",
       "      <td>jamestown</td>\n",
       "      <td>42.10</td>\n",
       "      <td>-79.24</td>\n",
       "      <td>64.00</td>\n",
       "      <td>88</td>\n",
       "      <td>1</td>\n",
       "      <td>6.93</td>\n",
       "      <td>US</td>\n",
       "      <td>1593605284</td>\n",
       "    </tr>\n",
       "  </tbody>\n",
       "</table>\n",
       "</div>"
      ],
      "text/plain": [
       "          City    Lat     Lng  Max Temp  Humidity  Cloudiness  Wind Speed  \\\n",
       "0   butaritari   3.07  172.79     83.32        74          84       10.42   \n",
       "1  yerbogachen  61.28  108.01     79.52        58          20        7.70   \n",
       "2    cape town -33.93   18.42     73.00        77          27        4.70   \n",
       "3        touba   8.28   -7.68     79.97        75          82        3.58   \n",
       "4    jamestown  42.10  -79.24     64.00        88           1        6.93   \n",
       "\n",
       "  Country        Date  \n",
       "0      KI  1593605283  \n",
       "1      RU  1593605121  \n",
       "2      ZA  1593605039  \n",
       "3      CI  1593605284  \n",
       "4      US  1593605284  "
      ]
     },
     "execution_count": 19,
     "metadata": {},
     "output_type": "execute_result"
    }
   ],
   "source": [
    "# Make a new DataFrame equal to the city data to drop all humidity outliers by index.\n",
    "# Passing \"inplace=False\" will make a copy of the city_data DataFrame, which we call \"clean_city_data\".\n"
   ]
  },
  {
   "cell_type": "code",
   "execution_count": null,
   "metadata": {},
   "outputs": [],
   "source": [
    "\n"
   ]
  },
  {
   "cell_type": "markdown",
   "metadata": {},
   "source": [
    "## Plotting the Data\n",
    "* Use proper labeling of the plots using plot titles (including date of analysis) and axes labels.\n",
    "* Save the plotted figures as .pngs."
   ]
  },
  {
   "cell_type": "markdown",
   "metadata": {},
   "source": [
    "## Latitude vs. Temperature Plot"
   ]
  },
  {
   "cell_type": "code",
   "execution_count": 13,
   "metadata": {},
   "outputs": [
    {
     "data": {
      "image/png": "[encoded data removed]",
      "text/plain": [
       "<Figure size 432x288 with 1 Axes>"
      ]
     },
     "metadata": {
      "needs_background": "light"
     },
     "output_type": "display_data"
    }
   ],
   "source": [
    "# Create a Scatter Plot for temperature vs latitude\n",
    "x_values = weather_data['Lat']\n",
    "y_values = weather_data['Max Temp']\n",
    "plt.scatter(x_values,y_values, facecolors=\"lightblue\", edgecolors=\"black\")\n",
    "plt.title('City Latitude vs. Max Temperature (04/01/20)')\n",
    "plt.xlabel('Latitude')\n",
    "plt.ylabel('Max Temperature (F)')\n",
    "plt.show()"
   ]
  },
  {
   "cell_type": "markdown",
   "metadata": {},
   "source": [
    "## Latitude vs. Humidity Plot"
   ]
  },
  {
   "cell_type": "code",
   "execution_count": 14,
   "metadata": {},
   "outputs": [
    {
     "data": {
      "image/png": "[encoded data removed]",
      "text/plain": [
       "<Figure size 432x288 with 1 Axes>"
      ]
     },
     "metadata": {
      "needs_background": "light"
     },
     "output_type": "display_data"
    }
   ],
   "source": [
    "# Create a Scatter Plot for Humidity vs latitude\n",
    "x_values = weather_data['Lat']\n",
    "y_values = weather_data['Humidity']\n",
    "plt.scatter(x_values,y_values, facecolors=\"lightblue\", edgecolors=\"black\")\n",
    "plt.title('City Latitude vs. Humidity (04/01/20)')\n",
    "plt.xlabel('Latitude')\n",
    "plt.ylabel('Humidity (%)')\n",
    "plt.show()"
   ]
  },
  {
   "cell_type": "markdown",
   "metadata": {},
   "source": [
    "## Latitude vs. Cloudiness Plot"
   ]
  },
  {
   "cell_type": "code",
   "execution_count": 15,
   "metadata": {},
   "outputs": [
    {
     "data": {
      "image/png": "[encoded data removed]",
      "text/plain": [
       "<Figure size 432x288 with 1 Axes>"
      ]
     },
     "metadata": {
      "needs_background": "light"
     },
     "output_type": "display_data"
    }
   ],
   "source": [
    "# Create a Scatter Plot for Cloudiness vs latitude\n",
    "x_values = weather_data['Lat']\n",
    "y_values = weather_data['Cloudiness']\n",
    "plt.scatter(x_values,y_values, facecolors=\"lightblue\", edgecolors=\"black\")\n",
    "plt.title('City Latitude vs. Cloudiness (04/01/20)')\n",
    "plt.xlabel('Latitude')\n",
    "plt.ylabel('Cloudiness (%)')\n",
    "plt.show()"
   ]
  },
  {
   "cell_type": "markdown",
   "metadata": {},
   "source": [
    "## Latitude vs. Wind Speed Plot"
   ]
  },
  {
   "cell_type": "code",
   "execution_count": 16,
   "metadata": {},
   "outputs": [
    {
     "data": {
      "image/png": "[encoded data removed]",
      "text/plain": [
       "<Figure size 432x288 with 1 Axes>"
      ]
     },
     "metadata": {
      "needs_background": "light"
     },
     "output_type": "display_data"
    }
   ],
   "source": [
    "# Create a Scatter Plot for Wind Speed vs latitude\n",
    "x_values = weather_data['Lat']\n",
    "y_values = weather_data['Wind Speed']\n",
    "plt.scatter(x_values,y_values, facecolors=\"lightblue\", edgecolors=\"black\")\n",
    "plt.title('City Latitude vs. Wind Speed (04/01/20)')\n",
    "plt.xlabel('Latitude')\n",
    "plt.ylabel('Wind Speed (mph)')\n",
    "plt.show()"
   ]
  },
  {
   "cell_type": "markdown",
   "metadata": {},
   "source": [
    "## Linear Regression"
   ]
  },
  {
   "cell_type": "code",
   "execution_count": 24,
   "metadata": {},
   "outputs": [],
   "source": []
  },
  {
   "cell_type": "markdown",
   "metadata": {},
   "source": [
    "####  Northern Hemisphere - Max Temp vs. Latitude Linear Regression"
   ]
  },
  {
   "cell_type": "code",
   "execution_count": 25,
   "metadata": {},
   "outputs": [
    {
     "name": "stdout",
     "output_type": "stream",
     "text": [
      "The r-value is: 0.46937863826630627\n"
     ]
    },
    {
     "data": {
      "image/png": "[encoded data removed]",
      "text/plain": [
       "<Figure size 432x288 with 1 Axes>"
      ]
     },
     "metadata": {
      "needs_background": "light"
     },
     "output_type": "display_data"
    }
   ],
   "source": []
  },
  {
   "cell_type": "markdown",
   "metadata": {},
   "source": [
    "####  Southern Hemisphere - Max Temp vs. Latitude Linear Regression"
   ]
  },
  {
   "cell_type": "code",
   "execution_count": 26,
   "metadata": {},
   "outputs": [
    {
     "name": "stdout",
     "output_type": "stream",
     "text": [
      "The r-value is: 0.6082708688906918\n"
     ]
    },
    {
     "data": {
      "image/png": "[encoded data removed]",
      "text/plain": [
       "<Figure size 432x288 with 1 Axes>"
      ]
     },
     "metadata": {
      "needs_background": "light"
     },
     "output_type": "display_data"
    }
   ],
   "source": []
  },
  {
   "cell_type": "markdown",
   "metadata": {},
   "source": [
    "####  Northern Hemisphere - Humidity (%) vs. Latitude Linear Regression"
   ]
  },
  {
   "cell_type": "code",
   "execution_count": 27,
   "metadata": {},
   "outputs": [
    {
     "name": "stdout",
     "output_type": "stream",
     "text": [
      "The r-value is: 0.000543987878808455\n"
     ]
    },
    {
     "data": {
      "image/png": "[encoded data removed]",
      "text/plain": [
       "<Figure size 432x288 with 1 Axes>"
      ]
     },
     "metadata": {
      "needs_background": "light"
     },
     "output_type": "display_data"
    }
   ],
   "source": []
  },
  {
   "cell_type": "markdown",
   "metadata": {},
   "source": [
    "####  Southern Hemisphere - Humidity (%) vs. Latitude Linear Regression"
   ]
  },
  {
   "cell_type": "code",
   "execution_count": 28,
   "metadata": {},
   "outputs": [
    {
     "name": "stdout",
     "output_type": "stream",
     "text": [
      "The r-value is: 0.014985174297345524\n"
     ]
    },
    {
     "data": {
      "image/png": "[encoded data removed]",
      "text/plain": [
       "<Figure size 432x288 with 1 Axes>"
      ]
     },
     "metadata": {
      "needs_background": "light"
     },
     "output_type": "display_data"
    }
   ],
   "source": []
  },
  {
   "cell_type": "markdown",
   "metadata": {},
   "source": [
    "####  Northern Hemisphere - Cloudiness (%) vs. Latitude Linear Regression"
   ]
  },
  {
   "cell_type": "code",
   "execution_count": 29,
   "metadata": {},
   "outputs": [
    {
     "name": "stdout",
     "output_type": "stream",
     "text": [
      "The r-value is: 0.0020898727664228514\n"
     ]
    },
    {
     "data": {
      "image/png": "[encoded data removed]",
      "text/plain": [
       "<Figure size 432x288 with 1 Axes>"
      ]
     },
     "metadata": {
      "needs_background": "light"
     },
     "output_type": "display_data"
    }
   ],
   "source": []
  },
  {
   "cell_type": "markdown",
   "metadata": {},
   "source": [
    "####  Southern Hemisphere - Cloudiness (%) vs. Latitude Linear Regression"
   ]
  },
  {
   "cell_type": "code",
   "execution_count": 30,
   "metadata": {},
   "outputs": [
    {
     "name": "stdout",
     "output_type": "stream",
     "text": [
      "The r-value is: 0.0035263772085582894\n"
     ]
    },
    {
     "data": {
      "image/png": "[encoded data removed]",
      "text/plain": [
       "<Figure size 432x288 with 1 Axes>"
      ]
     },
     "metadata": {
      "needs_background": "light"
     },
     "output_type": "display_data"
    }
   ],
   "source": []
  },
  {
   "cell_type": "markdown",
   "metadata": {},
   "source": [
    "####  Northern Hemisphere - Wind Speed (mph) vs. Latitude Linear Regression"
   ]
  },
  {
   "cell_type": "code",
   "execution_count": 31,
   "metadata": {},
   "outputs": [
    {
     "name": "stdout",
     "output_type": "stream",
     "text": [
      "The r-value is: 0.04019723576144484\n"
     ]
    },
    {
     "data": {
      "image/png": "[encoded data removed]",
      "text/plain": [
       "<Figure size 432x288 with 1 Axes>"
      ]
     },
     "metadata": {
      "needs_background": "light"
     },
     "output_type": "display_data"
    }
   ],
   "source": []
  },
  {
   "cell_type": "markdown",
   "metadata": {},
   "source": [
    "####  Southern Hemisphere - Wind Speed (mph) vs. Latitude Linear Regression"
   ]
  },
  {
   "cell_type": "code",
   "execution_count": 32,
   "metadata": {},
   "outputs": [
    {
     "name": "stdout",
     "output_type": "stream",
     "text": [
      "The r-value is: 0.017128274759839232\n"
     ]
    },
    {
     "data": {
      "image/png": "[encoded data removed]",
      "text/plain": [
       "<Figure size 432x288 with 1 Axes>"
      ]
     },
     "metadata": {
      "needs_background": "light"
     },
     "output_type": "display_data"
    }
   ],
   "source": []
  },
  {
   "cell_type": "code",
   "execution_count": null,
   "metadata": {},
   "outputs": [],
   "source": []
  }
 ],
 "metadata": {
  "anaconda-cloud": {},
  "kernel_info": {
   "name": "python3"
  },
  "kernelspec": {
   "display_name": "Python 3",
   "language": "python",
   "name": "python3"
  },
  "language_info": {
   "codemirror_mode": {
    "name": "ipython",
    "version": 3
   },
   "file_extension": ".py",
   "mimetype": "text/x-python",
   "name": "python",
   "nbconvert_exporter": "python",
   "pygments_lexer": "ipython3",
   "version": "3.8.5"
  },
  "latex_envs": {
   "LaTeX_envs_menu_present": true,
   "autoclose": false,
   "autocomplete": true,
   "bibliofile": "biblio.bib",
   "cite_by": "apalike",
   "current_citInitial": 1,
   "eqLabelWithNumbers": true,
   "eqNumInitial": 1,
   "hotkeys": {
    "equation": "Ctrl-E",
    "itemize": "Ctrl-I"
   },
   "labels_anchors": false,
   "latex_user_defs": false,
   "report_style_numbering": false,
   "user_envs_cfg": false
  },
  "nteract": {
   "version": "0.12.3"
  }
 },
 "nbformat": 4,
 "nbformat_minor": 2
}
