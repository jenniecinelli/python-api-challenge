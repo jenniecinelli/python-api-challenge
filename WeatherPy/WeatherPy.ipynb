{
 "cells": [
  {
   "cell_type": "markdown",
   "metadata": {},
   "source": [
    "# WeatherPy\n",
    "----\n",
    "\n",
    "#### Note\n",
    "* Instructions have been included for each segment. You do not have to follow them exactly, but they are included to help you think through the steps."
   ]
  },
  {
   "cell_type": "markdown",
   "metadata": {},
   "source": [
    "\n",
    "This analysis randomly generated cities to compare maximum temperature in relation to the city's latitude. It has been proven in the following plots that maximum temperature and latitude has a strong correlation. For cities that are in the Northern Hemisphere, the data shows that there is a strong negative correlation which means that the closer the city is to the equator(0), the higher the maximum temperature and the further away from the equator(0), the lower the maximum temperature. For cities in the Southern Hemisphere, the data shows that there is a strong positive correlation which means that when a city is closer to the equator(0), the higher the maximum temperature and the further away from the equator(0), the lower the maximum temperature.\n",
    "\n",
    "For the analysis on humidity in relation to latitude, there was not a correlation. However, when looking deeper in to the separate hemispheres, there seemed to be a slight correlation between humidity and latitude. For example, cities that are in the Northern Hemisphere have a slight positive correlation between humidity and latitude which means that for cities closer to the equator(0), the lower the humidity and the further away from the equator(0), the higher the humidity. Cities that are in the Southern Hemisphere have a positive correlation as well which means that the closer the city is to the equator(0), the higher the humidity and the further away from the equator(0), the lower the humidity.\n",
    "\n",
    "The analysis of latitude versus wind speed has shown that there does not seem to be a correlation between the two. For cities that lie in the Northern Hemisphere, the analysis shows that there is a slight positive correlation between wind speed and latitude which means that the closer to the equator(0) that the city is, the lower the wind speed and the further away from the equator(0) that the city is, the higher the wind speed. For cities that lie in the Southern Hemisphere, the analysis shows that there is a negative correlation between wind speed and latitude which means that the closer to the equator(0) the city is, the lower the wind speed and the further away from the equator(0) the city is, the higher the wind speed."
   ]
  },
  {
   "cell_type": "markdown",
   "metadata": {},
   "source": [
    "## Generate Cities List"
   ]
  },
  {
   "cell_type": "code",
   "execution_count": 5,
   "metadata": {},
   "outputs": [
    {
     "name": "stdout",
     "output_type": "stream",
     "text": [
      "652\n"
     ]
    }
   ],
   "source": [
    "latitude_data = np.random.randint(low=-90, high=90, size=1600)\n",
    "longitude_data = np.random.randint(low=-180, high=180, size=1600)\n",
    "\n",
    "coordinates = list(zip(latitude_data, longitude_data))\n",
    "\n",
    "cities = []\n",
    "for coordinate in coordinates:\n",
    "    lat, lon = coordinate\n",
    "    city=citipy.nearest_city(coordinate[0], coordinate[1]).city_name\n",
    "    \n",
    "    # If the city is unique, then add it to the cities list:\n",
    "    if city not in cities:\n",
    "        cities.append(city)\n",
    "\n",
    "print(len(cities))"
   ]
  },
  {
   "cell_type": "code",
   "execution_count": 6,
   "metadata": {},
   "outputs": [],
   "source": [
    "# Set url for API\n",
    "url = \"http://api.openweathermap.org/data/2.5/weather?\"\n",
    "\n",
    "units = \"imperial\"\n",
    "\n",
    "query_url=f'{url}appid={weather_api_key}&units={units}&q='"
   ]
  },
  {
   "cell_type": "markdown",
   "metadata": {},
   "source": [
    "### Perform API Calls\n",
    "* Perform a weather check on each city using a series of successive API calls.\n",
    "* Include a print log of each city as it'sbeing processed (with the city number and city name).\n"
   ]
  },
  {
   "cell_type": "code",
   "execution_count": 7,
   "metadata": {
    "scrolled": true
   },
   "outputs": [
    {
     "name": "stdout",
     "output_type": "stream",
     "text": [
      "Beginning Data Retrieval\n",
      "-----------------------------\n",
      "Processing Record 1 of 652 | manokwari\n",
      "Processing Record 2 of 652 | vaini\n",
      "Processing Record 3 of 652 | cidreira\n",
      "Processing Record 4 of 652 | opuwo\n",
      "Processing Record 5 of 652 | mar del plata\n",
      "Processing Record 6 of 652 | georgetown\n",
      "Processing Record 7 of 652 | borodino\n",
      "Processing Record 8 of 652 | khatanga\n",
      "Processing Record 9 of 652 | aldama\n",
      "Processing Record 10 of 652 | kuche\n",
      "kuche City not found. Skipping...\n",
      "Processing Record 11 of 652 | ushuaia\n",
      "Processing Record 12 of 652 | hobart\n",
      "Processing Record 13 of 652 | avarua\n",
      "Processing Record 14 of 652 | airai\n",
      "Processing Record 15 of 652 | tiksi\n",
      "Processing Record 16 of 652 | yangambi\n",
      "Processing Record 17 of 652 | deputatskiy\n",
      "Processing Record 18 of 652 | yellowknife\n",
      "Processing Record 19 of 652 | attawapiskat\n",
      "attawapiskat City not found. Skipping...\n",
      "Processing Record 20 of 652 | kidal\n",
      "Processing Record 21 of 652 | upington\n",
      "Processing Record 22 of 652 | avera\n",
      "Processing Record 23 of 652 | new norfolk\n",
      "Processing Record 24 of 652 | batticaloa\n",
      "Processing Record 25 of 652 | asau\n",
      "Processing Record 26 of 652 | gunnedah\n",
      "Processing Record 27 of 652 | taree\n",
      "Processing Record 28 of 652 | rikitea\n",
      "Processing Record 29 of 652 | cape town\n",
      "Processing Record 30 of 652 | atuona\n",
      "Processing Record 31 of 652 | enshi\n",
      "Processing Record 32 of 652 | ostrovnoy\n",
      "Processing Record 33 of 652 | villa del rosario\n",
      "Processing Record 34 of 652 | port lincoln\n",
      "Processing Record 35 of 652 | mahebourg\n",
      "Processing Record 36 of 652 | nizhneyansk\n",
      "nizhneyansk City not found. Skipping...\n",
      "Processing Record 37 of 652 | atar\n",
      "Processing Record 38 of 652 | bethel\n",
      "Processing Record 39 of 652 | punta arenas\n",
      "Processing Record 40 of 652 | saskylakh\n",
      "Processing Record 41 of 652 | mount gambier\n",
      "Processing Record 42 of 652 | albany\n",
      "Processing Record 43 of 652 | puerto ayora\n",
      "Processing Record 44 of 652 | taolanaro\n",
      "taolanaro City not found. Skipping...\n",
      "Processing Record 45 of 652 | camacha\n",
      "Processing Record 46 of 652 | viedma\n",
      "Processing Record 47 of 652 | nanchong\n",
      "Processing Record 48 of 652 | coahuayana\n",
      "Processing Record 49 of 652 | blensong\n",
      "blensong City not found. Skipping...\n",
      "Processing Record 50 of 652 | kushiro\n",
      "Processing Record 51 of 652 | hilo\n",
      "Processing Record 52 of 652 | thunder bay\n",
      "Processing Record 53 of 652 | batemans bay\n",
      "Processing Record 54 of 652 | chokurdakh\n",
      "Processing Record 55 of 652 | hamilton\n",
      "Processing Record 56 of 652 | te anau\n",
      "Processing Record 57 of 652 | flinders\n",
      "Processing Record 58 of 652 | amderma\n",
      "amderma City not found. Skipping...\n",
      "Processing Record 59 of 652 | ballina\n",
      "Processing Record 60 of 652 | busselton\n",
      "Processing Record 61 of 652 | port alfred\n",
      "Processing Record 62 of 652 | muros\n",
      "Processing Record 63 of 652 | yangliuqing\n",
      "Processing Record 64 of 652 | port elizabeth\n",
      "Processing Record 65 of 652 | nantucket\n",
      "Processing Record 66 of 652 | dikson\n",
      "Processing Record 67 of 652 | bouca\n",
      "Processing Record 68 of 652 | harrismith\n",
      "Processing Record 69 of 652 | barrow\n",
      "Processing Record 70 of 652 | van\n",
      "Processing Record 71 of 652 | cayenne\n",
      "Processing Record 72 of 652 | mago\n",
      "Processing Record 73 of 652 | la pila\n",
      "Processing Record 74 of 652 | namibe\n",
      "Processing Record 75 of 652 | neumunster\n",
      "Processing Record 76 of 652 | nikolskoye\n",
      "Processing Record 77 of 652 | laguna\n",
      "Processing Record 78 of 652 | lazo\n",
      "Processing Record 79 of 652 | kahului\n",
      "Processing Record 80 of 652 | ahuimanu\n",
      "Processing Record 81 of 652 | srednekolymsk\n",
      "Processing Record 82 of 652 | samusu\n",
      "samusu City not found. Skipping...\n",
      "Processing Record 83 of 652 | castro\n",
      "Processing Record 84 of 652 | bara\n",
      "Processing Record 85 of 652 | butaritari\n",
      "Processing Record 86 of 652 | troitsko-pechorsk\n",
      "Processing Record 87 of 652 | qasigiannguit\n",
      "Processing Record 88 of 652 | pitimbu\n",
      "Processing Record 89 of 652 | hervey bay\n",
      "Processing Record 90 of 652 | lensk\n",
      "Processing Record 91 of 652 | zdvinsk\n",
      "Processing Record 92 of 652 | corinto\n",
      "Processing Record 93 of 652 | cockburn town\n",
      "Processing Record 94 of 652 | sao sebastiao do paraiso\n",
      "Processing Record 95 of 652 | kapaa\n",
      "Processing Record 96 of 652 | marienburg\n",
      "Processing Record 97 of 652 | fairbanks\n",
      "Processing Record 98 of 652 | nanortalik\n",
      "Processing Record 99 of 652 | hasaki\n",
      "Processing Record 100 of 652 | beyneu\n",
      "Processing Record 101 of 652 | kodiak\n",
      "Processing Record 102 of 652 | talara\n",
      "Processing Record 103 of 652 | palabuhanratu\n",
      "palabuhanratu City not found. Skipping...\n",
      "Processing Record 104 of 652 | arraial do cabo\n",
      "Processing Record 105 of 652 | beidao\n",
      "Processing Record 106 of 652 | diego de almagro\n",
      "Processing Record 107 of 652 | umzimvubu\n",
      "umzimvubu City not found. Skipping...\n",
      "Processing Record 108 of 652 | rafai\n",
      "Processing Record 109 of 652 | carlton\n",
      "Processing Record 110 of 652 | coquimbo\n",
      "Processing Record 111 of 652 | guerrero negro\n",
      "Processing Record 112 of 652 | nijar\n",
      "Processing Record 113 of 652 | carnarvon\n",
      "Processing Record 114 of 652 | gigmoto\n",
      "Processing Record 115 of 652 | senador jose porfirio\n",
      "Processing Record 116 of 652 | tezu\n",
      "Processing Record 117 of 652 | mataura\n",
      "Processing Record 118 of 652 | bluff\n",
      "Processing Record 119 of 652 | mount isa\n",
      "Processing Record 120 of 652 | alyangula\n",
      "Processing Record 121 of 652 | bengkulu\n",
      "Processing Record 122 of 652 | yar-sale\n",
      "Processing Record 123 of 652 | thompson\n",
      "Processing Record 124 of 652 | luderitz\n",
      "Processing Record 125 of 652 | gravdal\n",
      "Processing Record 126 of 652 | erzin\n",
      "Processing Record 127 of 652 | axim\n",
      "Processing Record 128 of 652 | hermanus\n",
      "Processing Record 129 of 652 | bredasdorp\n",
      "Processing Record 130 of 652 | hami\n",
      "Processing Record 131 of 652 | jamestown\n",
      "Processing Record 132 of 652 | kruisfontein\n",
      "Processing Record 133 of 652 | vila praia de ancora\n",
      "Processing Record 134 of 652 | goderich\n",
      "Processing Record 135 of 652 | shakawe\n",
      "Processing Record 136 of 652 | hithadhoo\n",
      "Processing Record 137 of 652 | bathsheba\n",
      "Processing Record 138 of 652 | bandarbeyla\n",
      "Processing Record 139 of 652 | amapa\n",
      "Processing Record 140 of 652 | aykhal\n",
      "Processing Record 141 of 652 | shirokiy\n",
      "Processing Record 142 of 652 | shingu\n",
      "Processing Record 143 of 652 | atbasar\n",
      "Processing Record 144 of 652 | kieta\n",
      "Processing Record 145 of 652 | puerto del rosario\n",
      "Processing Record 146 of 652 | faanui\n",
      "Processing Record 147 of 652 | bambous virieux\n",
      "Processing Record 148 of 652 | illoqqortoormiut\n",
      "illoqqortoormiut City not found. Skipping...\n",
      "Processing Record 149 of 652 | pangai\n",
      "Processing Record 150 of 652 | saint-pierre\n",
      "Processing Record 151 of 652 | khasan\n",
      "Processing Record 152 of 652 | tsihombe\n",
      "tsihombe City not found. Skipping...\n",
      "Processing Record 153 of 652 | bachaquero\n",
      "Processing Record 154 of 652 | awjilah\n",
      "Processing Record 155 of 652 | egvekinot\n",
      "Processing Record 156 of 652 | upernavik\n",
      "Processing Record 157 of 652 | okha\n",
      "Processing Record 158 of 652 | evensk\n",
      "Processing Record 159 of 652 | berlevag\n",
      "Processing Record 160 of 652 | pevek\n",
      "Processing Record 161 of 652 | tiznit\n",
      "Processing Record 162 of 652 | port blair\n",
      "Processing Record 163 of 652 | smoky lake\n",
      "Processing Record 164 of 652 | ampanihy\n",
      "Processing Record 165 of 652 | salalah\n",
      "Processing Record 166 of 652 | vaitupu\n",
      "vaitupu City not found. Skipping...\n",
      "Processing Record 167 of 652 | tasiilaq\n",
      "Processing Record 168 of 652 | ribeira grande\n",
      "Processing Record 169 of 652 | saint-philippe\n",
      "Processing Record 170 of 652 | port moresby\n",
      "Processing Record 171 of 652 | dandong\n",
      "Processing Record 172 of 652 | cabo san lucas\n",
      "Processing Record 173 of 652 | satitoa\n",
      "satitoa City not found. Skipping...\n",
      "Processing Record 174 of 652 | mys shmidta\n",
      "mys shmidta City not found. Skipping...\n",
      "Processing Record 175 of 652 | ilinge\n",
      "Processing Record 176 of 652 | tarko-sale\n",
      "Processing Record 177 of 652 | sao filipe\n",
      "Processing Record 178 of 652 | mahalapye\n",
      "Processing Record 179 of 652 | dukat\n",
      "Processing Record 180 of 652 | chuy\n",
      "Processing Record 181 of 652 | savinka\n",
      "Processing Record 182 of 652 | lac du bonnet\n",
      "Processing Record 183 of 652 | kaka\n",
      "Processing Record 184 of 652 | ancud\n",
      "Processing Record 185 of 652 | stornoway\n",
      "Processing Record 186 of 652 | chapleau\n",
      "Processing Record 187 of 652 | uglegorsk\n",
      "Processing Record 188 of 652 | norman wells\n",
      "Processing Record 189 of 652 | gizo\n",
      "Processing Record 190 of 652 | paamiut\n",
      "Processing Record 191 of 652 | nampa\n"
     ]
    },
    {
     "name": "stdout",
     "output_type": "stream",
     "text": [
      "Processing Record 192 of 652 | zhangye\n",
      "Processing Record 193 of 652 | grand river south east\n",
      "grand river south east City not found. Skipping...\n",
      "Processing Record 194 of 652 | grenfell\n",
      "Processing Record 195 of 652 | teacapan\n",
      "Processing Record 196 of 652 | constitucion\n",
      "Processing Record 197 of 652 | bonavista\n",
      "Processing Record 198 of 652 | eureka\n",
      "Processing Record 199 of 652 | kunming\n",
      "Processing Record 200 of 652 | caravelas\n",
      "Processing Record 201 of 652 | belushya guba\n",
      "belushya guba City not found. Skipping...\n",
      "Processing Record 202 of 652 | buta\n",
      "Processing Record 203 of 652 | den helder\n",
      "Processing Record 204 of 652 | yeppoon\n",
      "Processing Record 205 of 652 | kokstad\n",
      "Processing Record 206 of 652 | barentsburg\n",
      "barentsburg City not found. Skipping...\n",
      "Processing Record 207 of 652 | port-gentil\n",
      "Processing Record 208 of 652 | karkaralinsk\n",
      "karkaralinsk City not found. Skipping...\n",
      "Processing Record 209 of 652 | jatara\n",
      "Processing Record 210 of 652 | nokaneng\n",
      "Processing Record 211 of 652 | santa catarina de tepehuanes\n",
      "Processing Record 212 of 652 | urumqi\n",
      "Processing Record 213 of 652 | birao\n",
      "Processing Record 214 of 652 | longlac\n",
      "longlac City not found. Skipping...\n",
      "Processing Record 215 of 652 | chernyshevskiy\n",
      "Processing Record 216 of 652 | mujiayingzi\n",
      "Processing Record 217 of 652 | sangar\n",
      "Processing Record 218 of 652 | gat\n",
      "Processing Record 219 of 652 | bela vista de goias\n",
      "Processing Record 220 of 652 | geraldton\n",
      "Processing Record 221 of 652 | vao\n",
      "Processing Record 222 of 652 | elko\n",
      "Processing Record 223 of 652 | torbay\n",
      "Processing Record 224 of 652 | kamenskoye\n",
      "kamenskoye City not found. Skipping...\n",
      "Processing Record 225 of 652 | dalianwan\n",
      "Processing Record 226 of 652 | aksu\n",
      "Processing Record 227 of 652 | necochea\n",
      "Processing Record 228 of 652 | butler\n",
      "Processing Record 229 of 652 | tuatapere\n",
      "Processing Record 230 of 652 | gardan diwal\n",
      "gardan diwal City not found. Skipping...\n",
      "Processing Record 231 of 652 | korla\n",
      "Processing Record 232 of 652 | praia\n",
      "Processing Record 233 of 652 | gurgan\n",
      "gurgan City not found. Skipping...\n",
      "Processing Record 234 of 652 | terney\n",
      "Processing Record 235 of 652 | lavrentiya\n",
      "Processing Record 236 of 652 | comodoro rivadavia\n",
      "Processing Record 237 of 652 | east london\n",
      "Processing Record 238 of 652 | marsa matruh\n",
      "Processing Record 239 of 652 | balikpapan\n",
      "Processing Record 240 of 652 | garowe\n",
      "Processing Record 241 of 652 | witbank\n",
      "Processing Record 242 of 652 | kamiiso\n",
      "Processing Record 243 of 652 | dingle\n",
      "Processing Record 244 of 652 | babanusah\n",
      "babanusah City not found. Skipping...\n",
      "Processing Record 245 of 652 | doha\n",
      "Processing Record 246 of 652 | tulungagung\n",
      "Processing Record 247 of 652 | campbell river\n",
      "Processing Record 248 of 652 | katra\n",
      "Processing Record 249 of 652 | karratha\n",
      "Processing Record 250 of 652 | caxambu\n",
      "Processing Record 251 of 652 | ilulissat\n",
      "Processing Record 252 of 652 | saint george\n",
      "Processing Record 253 of 652 | tynda\n",
      "Processing Record 254 of 652 | poya\n",
      "Processing Record 255 of 652 | nizhnevartovsk\n",
      "Processing Record 256 of 652 | chaiyaphum\n",
      "Processing Record 257 of 652 | kamaishi\n",
      "Processing Record 258 of 652 | jaipur hat\n",
      "jaipur hat City not found. Skipping...\n",
      "Processing Record 259 of 652 | arlit\n",
      "Processing Record 260 of 652 | nandu\n",
      "Processing Record 261 of 652 | coihaique\n",
      "Processing Record 262 of 652 | vardo\n",
      "Processing Record 263 of 652 | haines junction\n",
      "Processing Record 264 of 652 | myaundzha\n",
      "Processing Record 265 of 652 | mae hong son\n",
      "Processing Record 266 of 652 | iracoubo\n",
      "Processing Record 267 of 652 | humaita\n",
      "Processing Record 268 of 652 | kavieng\n",
      "Processing Record 269 of 652 | constantine\n",
      "Processing Record 270 of 652 | longyearbyen\n",
      "Processing Record 271 of 652 | banikoara\n",
      "Processing Record 272 of 652 | tidore\n",
      "tidore City not found. Skipping...\n",
      "Processing Record 273 of 652 | raipur\n",
      "Processing Record 274 of 652 | lebu\n",
      "Processing Record 275 of 652 | sept-iles\n",
      "Processing Record 276 of 652 | clyde river\n",
      "Processing Record 277 of 652 | wajima\n",
      "Processing Record 278 of 652 | qaanaaq\n",
      "Processing Record 279 of 652 | grand gaube\n",
      "Processing Record 280 of 652 | daru\n",
      "Processing Record 281 of 652 | bilma\n",
      "Processing Record 282 of 652 | marcona\n",
      "marcona City not found. Skipping...\n",
      "Processing Record 283 of 652 | cap malheureux\n",
      "Processing Record 284 of 652 | lagoa\n",
      "Processing Record 285 of 652 | virden\n",
      "Processing Record 286 of 652 | batagay-alyta\n",
      "Processing Record 287 of 652 | miyako\n",
      "Processing Record 288 of 652 | athabasca\n",
      "Processing Record 289 of 652 | pisco\n",
      "Processing Record 290 of 652 | kholtoson\n",
      "Processing Record 291 of 652 | cherskiy\n",
      "Processing Record 292 of 652 | okhotsk\n",
      "Processing Record 293 of 652 | warrington\n",
      "Processing Record 294 of 652 | lompoc\n",
      "Processing Record 295 of 652 | kazalinsk\n",
      "kazalinsk City not found. Skipping...\n",
      "Processing Record 296 of 652 | iqaluit\n",
      "Processing Record 297 of 652 | matara\n",
      "Processing Record 298 of 652 | quzhou\n",
      "Processing Record 299 of 652 | gamba\n",
      "Processing Record 300 of 652 | texarkana\n",
      "Processing Record 301 of 652 | louisbourg\n",
      "louisbourg City not found. Skipping...\n",
      "Processing Record 302 of 652 | pangnirtung\n",
      "Processing Record 303 of 652 | bafq\n",
      "Processing Record 304 of 652 | severo-kurilsk\n",
      "Processing Record 305 of 652 | lae\n",
      "Processing Record 306 of 652 | pecos\n",
      "Processing Record 307 of 652 | lucapa\n",
      "Processing Record 308 of 652 | sterling\n",
      "Processing Record 309 of 652 | keighley\n",
      "Processing Record 310 of 652 | yabrud\n",
      "Processing Record 311 of 652 | kaiu\n",
      "Processing Record 312 of 652 | puerto escondido\n",
      "Processing Record 313 of 652 | igrim\n",
      "Processing Record 314 of 652 | saint-augustin\n",
      "Processing Record 315 of 652 | kegayli\n",
      "kegayli City not found. Skipping...\n",
      "Processing Record 316 of 652 | kunya\n",
      "Processing Record 317 of 652 | imbituba\n",
      "Processing Record 318 of 652 | vicente guerrero\n",
      "Processing Record 319 of 652 | shimoda\n",
      "Processing Record 320 of 652 | leningradskiy\n",
      "Processing Record 321 of 652 | sumbawa\n",
      "sumbawa City not found. Skipping...\n",
      "Processing Record 322 of 652 | rodrigues alves\n",
      "Processing Record 323 of 652 | teguise\n",
      "Processing Record 324 of 652 | mareeba\n",
      "Processing Record 325 of 652 | castelldefels\n",
      "Processing Record 326 of 652 | tuktoyaktuk\n",
      "Processing Record 327 of 652 | sinnamary\n",
      "Processing Record 328 of 652 | fuyang\n",
      "Processing Record 329 of 652 | thyolo\n",
      "Processing Record 330 of 652 | beringovskiy\n",
      "Processing Record 331 of 652 | espinosa\n",
      "Processing Record 332 of 652 | el seibo\n",
      "Processing Record 333 of 652 | chancay\n",
      "Processing Record 334 of 652 | stoyba\n",
      "stoyba City not found. Skipping...\n",
      "Processing Record 335 of 652 | aklavik\n",
      "Processing Record 336 of 652 | valladolid\n",
      "Processing Record 337 of 652 | inhambane\n",
      "Processing Record 338 of 652 | tateyama\n",
      "Processing Record 339 of 652 | ambilobe\n",
      "Processing Record 340 of 652 | kiruna\n",
      "Processing Record 341 of 652 | klaksvik\n",
      "Processing Record 342 of 652 | vila velha\n",
      "Processing Record 343 of 652 | sydney\n",
      "Processing Record 344 of 652 | el triunfo\n",
      "Processing Record 345 of 652 | kaitangata\n",
      "Processing Record 346 of 652 | goias\n",
      "Processing Record 347 of 652 | almazar\n",
      "Processing Record 348 of 652 | mitsamiouli\n",
      "Processing Record 349 of 652 | estelle\n",
      "Processing Record 350 of 652 | banjar\n",
      "Processing Record 351 of 652 | gua musang\n",
      "Processing Record 352 of 652 | omboue\n",
      "Processing Record 353 of 652 | caconda\n",
      "Processing Record 354 of 652 | boa vista\n",
      "Processing Record 355 of 652 | portland\n",
      "Processing Record 356 of 652 | bolshiye uki\n",
      "bolshiye uki City not found. Skipping...\n",
      "Processing Record 357 of 652 | camana\n",
      "Processing Record 358 of 652 | petrivka\n",
      "Processing Record 359 of 652 | phan thiet\n",
      "Processing Record 360 of 652 | ahipara\n",
      "Processing Record 361 of 652 | oistins\n",
      "Processing Record 362 of 652 | touros\n",
      "Processing Record 363 of 652 | northam\n",
      "Processing Record 364 of 652 | port hedland\n",
      "Processing Record 365 of 652 | broken hill\n",
      "Processing Record 366 of 652 | san pedro\n",
      "Processing Record 367 of 652 | zheleznodorozhnyy\n",
      "Processing Record 368 of 652 | dawei\n",
      "Processing Record 369 of 652 | sitka\n",
      "Processing Record 370 of 652 | falaleu\n",
      "falaleu City not found. Skipping...\n",
      "Processing Record 371 of 652 | alausi\n",
      "Processing Record 372 of 652 | ust-uda\n",
      "Processing Record 373 of 652 | banamba\n",
      "Processing Record 374 of 652 | hertford\n",
      "Processing Record 375 of 652 | yanan\n",
      "yanan City not found. Skipping...\n"
     ]
    },
    {
     "name": "stdout",
     "output_type": "stream",
     "text": [
      "Processing Record 376 of 652 | maningrida\n",
      "Processing Record 377 of 652 | samarai\n",
      "Processing Record 378 of 652 | hambantota\n",
      "Processing Record 379 of 652 | akyab\n",
      "Processing Record 380 of 652 | bozuyuk\n",
      "Processing Record 381 of 652 | puerto colombia\n",
      "Processing Record 382 of 652 | santa helena de goias\n",
      "Processing Record 383 of 652 | ponta do sol\n",
      "Processing Record 384 of 652 | novolabinskaya\n",
      "Processing Record 385 of 652 | taunggyi\n",
      "Processing Record 386 of 652 | bolungarvik\n",
      "bolungarvik City not found. Skipping...\n",
      "Processing Record 387 of 652 | krasnoselkup\n",
      "Processing Record 388 of 652 | san cristobal\n",
      "Processing Record 389 of 652 | wanaka\n",
      "Processing Record 390 of 652 | ponto novo\n",
      "Processing Record 391 of 652 | erenhot\n",
      "Processing Record 392 of 652 | sibolga\n",
      "Processing Record 393 of 652 | boke\n",
      "Processing Record 394 of 652 | leshukonskoye\n",
      "Processing Record 395 of 652 | fort nelson\n",
      "Processing Record 396 of 652 | rio grande\n",
      "Processing Record 397 of 652 | richmond\n",
      "Processing Record 398 of 652 | gbarnga\n",
      "Processing Record 399 of 652 | victoria\n",
      "Processing Record 400 of 652 | antofagasta\n",
      "Processing Record 401 of 652 | wolmaranstad\n",
      "wolmaranstad City not found. Skipping...\n",
      "Processing Record 402 of 652 | rawson\n",
      "Processing Record 403 of 652 | komsomolskiy\n",
      "Processing Record 404 of 652 | kashi\n",
      "Processing Record 405 of 652 | baghdad\n",
      "Processing Record 406 of 652 | gollere\n",
      "gollere City not found. Skipping...\n",
      "Processing Record 407 of 652 | bahia blanca\n",
      "Processing Record 408 of 652 | preobrazheniye\n",
      "Processing Record 409 of 652 | yantal\n",
      "Processing Record 410 of 652 | codrington\n",
      "Processing Record 411 of 652 | lyngseidet\n",
      "Processing Record 412 of 652 | araouane\n",
      "Processing Record 413 of 652 | luau\n",
      "Processing Record 414 of 652 | trincomalee\n",
      "Processing Record 415 of 652 | ternate\n",
      "Processing Record 416 of 652 | lorengau\n",
      "Processing Record 417 of 652 | eucaliptus\n",
      "Processing Record 418 of 652 | zavallya\n",
      "Processing Record 419 of 652 | bela\n",
      "Processing Record 420 of 652 | marrakesh\n",
      "Processing Record 421 of 652 | okoneshnikovo\n",
      "Processing Record 422 of 652 | kibala\n",
      "Processing Record 423 of 652 | shintomi\n",
      "Processing Record 424 of 652 | vestmannaeyjar\n",
      "Processing Record 425 of 652 | alekseyevsk\n",
      "Processing Record 426 of 652 | dannenberg\n",
      "Processing Record 427 of 652 | hualmay\n",
      "Processing Record 428 of 652 | aitape\n",
      "Processing Record 429 of 652 | masingbi\n",
      "Processing Record 430 of 652 | mollendo\n",
      "Processing Record 431 of 652 | pelym\n",
      "Processing Record 432 of 652 | fortuna\n",
      "Processing Record 433 of 652 | burica\n",
      "burica City not found. Skipping...\n",
      "Processing Record 434 of 652 | challans\n",
      "Processing Record 435 of 652 | lata\n",
      "Processing Record 436 of 652 | deep river\n",
      "Processing Record 437 of 652 | tupelo\n",
      "Processing Record 438 of 652 | meyungs\n",
      "meyungs City not found. Skipping...\n",
      "Processing Record 439 of 652 | we\n",
      "we City not found. Skipping...\n",
      "Processing Record 440 of 652 | lima\n",
      "Processing Record 441 of 652 | swan river\n",
      "Processing Record 442 of 652 | loukhi\n",
      "Processing Record 443 of 652 | mayumba\n",
      "Processing Record 444 of 652 | la paz\n",
      "Processing Record 445 of 652 | ishlei\n",
      "ishlei City not found. Skipping...\n",
      "Processing Record 446 of 652 | dekoa\n",
      "dekoa City not found. Skipping...\n",
      "Processing Record 447 of 652 | florida\n",
      "Processing Record 448 of 652 | palmer\n",
      "Processing Record 449 of 652 | margate\n",
      "Processing Record 450 of 652 | oga\n",
      "Processing Record 451 of 652 | gerash\n",
      "Processing Record 452 of 652 | katsuura\n",
      "Processing Record 453 of 652 | port hardy\n",
      "Processing Record 454 of 652 | san quintin\n",
      "Processing Record 455 of 652 | komarikhinskiy\n",
      "Processing Record 456 of 652 | taoudenni\n",
      "Processing Record 457 of 652 | kokologo\n",
      "Processing Record 458 of 652 | santa maria\n",
      "Processing Record 459 of 652 | mirnyy\n",
      "Processing Record 460 of 652 | magadan\n",
      "Processing Record 461 of 652 | linqiong\n",
      "Processing Record 462 of 652 | provideniya\n",
      "Processing Record 463 of 652 | three hills\n",
      "Processing Record 464 of 652 | srandakan\n",
      "Processing Record 465 of 652 | baruun-urt\n",
      "Processing Record 466 of 652 | rio cuarto\n",
      "Processing Record 467 of 652 | the valley\n",
      "Processing Record 468 of 652 | ossora\n",
      "Processing Record 469 of 652 | panzhihua\n",
      "Processing Record 470 of 652 | mantua\n",
      "Processing Record 471 of 652 | goma\n",
      "Processing Record 472 of 652 | dicabisagan\n",
      "Processing Record 473 of 652 | durusu\n",
      "Processing Record 474 of 652 | kavaratti\n",
      "Processing Record 475 of 652 | bauchi\n",
      "Processing Record 476 of 652 | mikuni\n",
      "Processing Record 477 of 652 | buala\n",
      "Processing Record 478 of 652 | vila franca do campo\n",
      "Processing Record 479 of 652 | lephepe\n",
      "lephepe City not found. Skipping...\n",
      "Processing Record 480 of 652 | tumannyy\n",
      "tumannyy City not found. Skipping...\n",
      "Processing Record 481 of 652 | san patricio\n",
      "Processing Record 482 of 652 | bukachacha\n",
      "Processing Record 483 of 652 | ruatoria\n",
      "ruatoria City not found. Skipping...\n",
      "Processing Record 484 of 652 | ijaki\n",
      "ijaki City not found. Skipping...\n",
      "Processing Record 485 of 652 | chapais\n",
      "Processing Record 486 of 652 | stepnyak\n",
      "Processing Record 487 of 652 | saleaula\n",
      "saleaula City not found. Skipping...\n",
      "Processing Record 488 of 652 | hay river\n",
      "Processing Record 489 of 652 | havre\n",
      "Processing Record 490 of 652 | talnakh\n",
      "Processing Record 491 of 652 | kampot\n",
      "Processing Record 492 of 652 | itaituba\n",
      "Processing Record 493 of 652 | penalva\n",
      "Processing Record 494 of 652 | houma\n",
      "Processing Record 495 of 652 | dunedin\n",
      "Processing Record 496 of 652 | novyy urgal\n",
      "Processing Record 497 of 652 | mrirt\n",
      "mrirt City not found. Skipping...\n",
      "Processing Record 498 of 652 | lidkoping\n",
      "Processing Record 499 of 652 | santa rita\n",
      "Processing Record 500 of 652 | maragogi\n",
      "Processing Record 501 of 652 | fort wellington\n",
      "Processing Record 502 of 652 | owando\n",
      "Processing Record 503 of 652 | olafsvik\n",
      "Processing Record 504 of 652 | benghazi\n",
      "Processing Record 505 of 652 | pathein\n",
      "Processing Record 506 of 652 | novaya malykla\n",
      "Processing Record 507 of 652 | tual\n",
      "Processing Record 508 of 652 | khash\n",
      "Processing Record 509 of 652 | broome\n",
      "Processing Record 510 of 652 | mattru\n",
      "Processing Record 511 of 652 | jambi\n",
      "Processing Record 512 of 652 | sorland\n",
      "Processing Record 513 of 652 | praia da vitoria\n",
      "Processing Record 514 of 652 | qidong\n",
      "Processing Record 515 of 652 | luyang\n",
      "Processing Record 516 of 652 | maraa\n",
      "Processing Record 517 of 652 | russell\n",
      "Processing Record 518 of 652 | muisne\n",
      "Processing Record 519 of 652 | aldan\n",
      "Processing Record 520 of 652 | matay\n",
      "Processing Record 521 of 652 | gwadar\n",
      "Processing Record 522 of 652 | artyom\n",
      "Processing Record 523 of 652 | shenjiamen\n",
      "Processing Record 524 of 652 | soldotna\n",
      "Processing Record 525 of 652 | kapit\n",
      "Processing Record 526 of 652 | chakwal\n",
      "Processing Record 527 of 652 | alta floresta\n",
      "Processing Record 528 of 652 | ust-ilimsk\n",
      "Processing Record 529 of 652 | kerema\n",
      "Processing Record 530 of 652 | cascais\n",
      "Processing Record 531 of 652 | henties bay\n",
      "Processing Record 532 of 652 | cairns\n",
      "Processing Record 533 of 652 | karauzyak\n",
      "karauzyak City not found. Skipping...\n",
      "Processing Record 534 of 652 | biaora\n",
      "Processing Record 535 of 652 | lincoln\n",
      "Processing Record 536 of 652 | tahoua\n",
      "Processing Record 537 of 652 | pinega\n",
      "Processing Record 538 of 652 | adrar\n",
      "Processing Record 539 of 652 | atkarsk\n",
      "Processing Record 540 of 652 | san jose\n",
      "Processing Record 541 of 652 | pangoa\n",
      "Processing Record 542 of 652 | kazachinskoye\n",
      "Processing Record 543 of 652 | abu samrah\n",
      "Processing Record 544 of 652 | akhmeta\n",
      "Processing Record 545 of 652 | keti bandar\n",
      "Processing Record 546 of 652 | esperance\n",
      "Processing Record 547 of 652 | bukoba\n",
      "Processing Record 548 of 652 | abong mbang\n",
      "Processing Record 549 of 652 | nichinan\n",
      "Processing Record 550 of 652 | lively\n",
      "Processing Record 551 of 652 | wasilla\n",
      "Processing Record 552 of 652 | sur\n",
      "Processing Record 553 of 652 | sobolevo\n",
      "Processing Record 554 of 652 | nome\n",
      "Processing Record 555 of 652 | port-cartier\n",
      "Processing Record 556 of 652 | vengerovo\n",
      "Processing Record 557 of 652 | zhigansk\n",
      "Processing Record 558 of 652 | clarence town\n",
      "Processing Record 559 of 652 | souillac\n",
      "Processing Record 560 of 652 | glencoe\n",
      "Processing Record 561 of 652 | baft\n",
      "Processing Record 562 of 652 | chumikan\n",
      "Processing Record 563 of 652 | yumen\n",
      "Processing Record 564 of 652 | belyy yar\n",
      "Processing Record 565 of 652 | tura\n",
      "Processing Record 566 of 652 | garden city\n"
     ]
    },
    {
     "name": "stdout",
     "output_type": "stream",
     "text": [
      "Processing Record 567 of 652 | camopi\n",
      "Processing Record 568 of 652 | syamzha\n",
      "Processing Record 569 of 652 | tula\n",
      "Processing Record 570 of 652 | marti\n",
      "Processing Record 571 of 652 | ruteng\n",
      "Processing Record 572 of 652 | havelock\n",
      "Processing Record 573 of 652 | tukan\n",
      "Processing Record 574 of 652 | kota tinggi\n",
      "Processing Record 575 of 652 | mayo\n",
      "Processing Record 576 of 652 | jatai\n",
      "Processing Record 577 of 652 | simbahan\n",
      "Processing Record 578 of 652 | tsimlyansk\n",
      "Processing Record 579 of 652 | rehoboth\n",
      "Processing Record 580 of 652 | marsaxlokk\n",
      "Processing Record 581 of 652 | naze\n",
      "Processing Record 582 of 652 | menongue\n",
      "Processing Record 583 of 652 | sisimiut\n",
      "Processing Record 584 of 652 | andenes\n",
      "Processing Record 585 of 652 | biak\n",
      "Processing Record 586 of 652 | scottsburgh\n",
      "scottsburgh City not found. Skipping...\n",
      "Processing Record 587 of 652 | port hueneme\n",
      "Processing Record 588 of 652 | kenai\n",
      "Processing Record 589 of 652 | hvammstangi\n",
      "hvammstangi City not found. Skipping...\n",
      "Processing Record 590 of 652 | nouadhibou\n",
      "Processing Record 591 of 652 | san clemente\n",
      "Processing Record 592 of 652 | suntar\n",
      "Processing Record 593 of 652 | uniao da victoria\n",
      "uniao da victoria City not found. Skipping...\n",
      "Processing Record 594 of 652 | neiafu\n",
      "Processing Record 595 of 652 | bom jardim\n",
      "Processing Record 596 of 652 | san ramon\n",
      "Processing Record 597 of 652 | mikun\n",
      "Processing Record 598 of 652 | nara\n",
      "Processing Record 599 of 652 | college\n",
      "Processing Record 600 of 652 | beruni\n",
      "beruni City not found. Skipping...\n",
      "Processing Record 601 of 652 | linao\n",
      "Processing Record 602 of 652 | hihifo\n",
      "hihifo City not found. Skipping...\n",
      "Processing Record 603 of 652 | kholm\n",
      "Processing Record 604 of 652 | porto velho\n",
      "Processing Record 605 of 652 | mamou\n",
      "Processing Record 606 of 652 | issoudun\n",
      "Processing Record 607 of 652 | voyvozh\n",
      "Processing Record 608 of 652 | khoy\n",
      "Processing Record 609 of 652 | waingapu\n",
      "Processing Record 610 of 652 | ziarat\n",
      "Processing Record 611 of 652 | manicore\n",
      "Processing Record 612 of 652 | stromness\n",
      "Processing Record 613 of 652 | basco\n",
      "Processing Record 614 of 652 | karlshamn\n",
      "Processing Record 615 of 652 | wanxian\n",
      "Processing Record 616 of 652 | wagar\n",
      "Processing Record 617 of 652 | montepuez\n",
      "Processing Record 618 of 652 | yerbogachen\n",
      "Processing Record 619 of 652 | hofn\n",
      "Processing Record 620 of 652 | richards bay\n",
      "Processing Record 621 of 652 | impfondo\n",
      "Processing Record 622 of 652 | mestia\n",
      "Processing Record 623 of 652 | narasannapeta\n",
      "Processing Record 624 of 652 | hirado\n",
      "Processing Record 625 of 652 | san vicente\n",
      "Processing Record 626 of 652 | eenhana\n",
      "Processing Record 627 of 652 | groton\n",
      "Processing Record 628 of 652 | claveria\n",
      "Processing Record 629 of 652 | rocha\n",
      "Processing Record 630 of 652 | north platte\n",
      "Processing Record 631 of 652 | bandar-e lengeh\n",
      "Processing Record 632 of 652 | honolulu\n",
      "Processing Record 633 of 652 | crixas\n",
      "Processing Record 634 of 652 | black river\n",
      "Processing Record 635 of 652 | alofi\n",
      "Processing Record 636 of 652 | inongo\n",
      "Processing Record 637 of 652 | jacksonville\n",
      "Processing Record 638 of 652 | aleksandrov gay\n",
      "Processing Record 639 of 652 | paoua\n",
      "Processing Record 640 of 652 | warqla\n",
      "warqla City not found. Skipping...\n",
      "Processing Record 641 of 652 | gold coast\n",
      "Processing Record 642 of 652 | aswan\n",
      "Processing Record 643 of 652 | chhatak\n",
      "Processing Record 644 of 652 | surt\n",
      "Processing Record 645 of 652 | madison\n",
      "Processing Record 646 of 652 | forestville\n",
      "Processing Record 647 of 652 | ndele\n",
      "Processing Record 648 of 652 | kolda\n",
      "Processing Record 649 of 652 | palu\n",
      "Processing Record 650 of 652 | marsh harbour\n",
      "Processing Record 651 of 652 | ust-karsk\n",
      "Processing Record 652 of 652 | buchanan\n"
     ]
    }
   ],
   "source": [
    "# Set empty lists\n",
    "city_name = []\n",
    "lat = []\n",
    "lng = []\n",
    "max_temp = []\n",
    "humidity = []\n",
    "cloudiness = []\n",
    "wind_speed = []\n",
    "country = []\n",
    "date = []\n",
    "\n",
    "count=1\n",
    "\n",
    "print('Beginning Data Retrieval')     \n",
    "print('-----------------------------')\n",
    "\n",
    "for city in cities:\n",
    "        response=requests.get(query_url + city).json()\n",
    "        \n",
    "        print('Processing Record ' + str(count) + ' of ' + str(len(cities)) + ' | ' + city)\n",
    "        \n",
    "        try:\n",
    "            city_name.append(response['name'])\n",
    "            lat.append(response['coord']['lat'])\n",
    "            lng.append(response['coord']['lon'])  \n",
    "            max_temp.append(response['main']['temp_max'])\n",
    "            humidity.append(response['main']['humidity'])  \n",
    "            cloudiness.append(response['clouds']['all'])\n",
    "            wind_speed.append(response['wind']['speed'])   \n",
    "            country.append(response['sys']['country'])\n",
    "            date.append(response['dt'])     \n",
    "    \n",
    "        except KeyError:\n",
    "            \n",
    "            print(city + ' City not found. Skipping...') \n",
    "            \n",
    "        count=count+1"
   ]
  },
  {
   "cell_type": "markdown",
   "metadata": {},
   "source": [
    "### Convert Raw Data to DataFrame\n",
    "* Export the city data into a .csv.\n",
    "* Display the DataFrame"
   ]
  },
  {
   "cell_type": "code",
   "execution_count": 8,
   "metadata": {
    "scrolled": false
   },
   "outputs": [
    {
     "data": {
      "text/html": [
       "<div>\n",
       "<style scoped>\n",
       "    .dataframe tbody tr th:only-of-type {\n",
       "        vertical-align: middle;\n",
       "    }\n",
       "\n",
       "    .dataframe tbody tr th {\n",
       "        vertical-align: top;\n",
       "    }\n",
       "\n",
       "    .dataframe thead th {\n",
       "        text-align: right;\n",
       "    }\n",
       "</style>\n",
       "<table border=\"1\" class=\"dataframe\">\n",
       "  <thead>\n",
       "    <tr style=\"text-align: right;\">\n",
       "      <th></th>\n",
       "      <th>City</th>\n",
       "      <th>Lat</th>\n",
       "      <th>Lng</th>\n",
       "      <th>Max Temp</th>\n",
       "      <th>Humidity</th>\n",
       "      <th>Cloudiness</th>\n",
       "      <th>Wind Speed</th>\n",
       "      <th>Country</th>\n",
       "      <th>Date</th>\n",
       "    </tr>\n",
       "  </thead>\n",
       "  <tbody>\n",
       "    <tr>\n",
       "      <th>0</th>\n",
       "      <td>Manokwari</td>\n",
       "      <td>-0.8667</td>\n",
       "      <td>134.0833</td>\n",
       "      <td>82.42</td>\n",
       "      <td>71</td>\n",
       "      <td>100</td>\n",
       "      <td>1.12</td>\n",
       "      <td>ID</td>\n",
       "      <td>1619831565</td>\n",
       "    </tr>\n",
       "    <tr>\n",
       "      <th>1</th>\n",
       "      <td>Vaini</td>\n",
       "      <td>-21.2000</td>\n",
       "      <td>-175.2000</td>\n",
       "      <td>78.80</td>\n",
       "      <td>89</td>\n",
       "      <td>75</td>\n",
       "      <td>12.66</td>\n",
       "      <td>TO</td>\n",
       "      <td>1619831277</td>\n",
       "    </tr>\n",
       "    <tr>\n",
       "      <th>2</th>\n",
       "      <td>Cidreira</td>\n",
       "      <td>-30.1811</td>\n",
       "      <td>-50.2056</td>\n",
       "      <td>68.79</td>\n",
       "      <td>71</td>\n",
       "      <td>0</td>\n",
       "      <td>16.96</td>\n",
       "      <td>BR</td>\n",
       "      <td>1619831474</td>\n",
       "    </tr>\n",
       "    <tr>\n",
       "      <th>3</th>\n",
       "      <td>Opuwo</td>\n",
       "      <td>-18.0607</td>\n",
       "      <td>13.8400</td>\n",
       "      <td>68.90</td>\n",
       "      <td>37</td>\n",
       "      <td>57</td>\n",
       "      <td>5.12</td>\n",
       "      <td>NA</td>\n",
       "      <td>1619831565</td>\n",
       "    </tr>\n",
       "    <tr>\n",
       "      <th>4</th>\n",
       "      <td>Mar del Plata</td>\n",
       "      <td>-38.0023</td>\n",
       "      <td>-57.5575</td>\n",
       "      <td>63.00</td>\n",
       "      <td>77</td>\n",
       "      <td>0</td>\n",
       "      <td>10.36</td>\n",
       "      <td>AR</td>\n",
       "      <td>1619831306</td>\n",
       "    </tr>\n",
       "    <tr>\n",
       "      <th>5</th>\n",
       "      <td>George Town</td>\n",
       "      <td>5.4112</td>\n",
       "      <td>100.3354</td>\n",
       "      <td>78.80</td>\n",
       "      <td>94</td>\n",
       "      <td>20</td>\n",
       "      <td>4.61</td>\n",
       "      <td>MY</td>\n",
       "      <td>1619831043</td>\n",
       "    </tr>\n",
       "    <tr>\n",
       "      <th>6</th>\n",
       "      <td>Borodino</td>\n",
       "      <td>55.9106</td>\n",
       "      <td>94.8983</td>\n",
       "      <td>44.20</td>\n",
       "      <td>71</td>\n",
       "      <td>77</td>\n",
       "      <td>6.82</td>\n",
       "      <td>RU</td>\n",
       "      <td>1619831566</td>\n",
       "    </tr>\n",
       "    <tr>\n",
       "      <th>7</th>\n",
       "      <td>Khatanga</td>\n",
       "      <td>71.9667</td>\n",
       "      <td>102.5000</td>\n",
       "      <td>33.42</td>\n",
       "      <td>88</td>\n",
       "      <td>100</td>\n",
       "      <td>10.27</td>\n",
       "      <td>RU</td>\n",
       "      <td>1619831278</td>\n",
       "    </tr>\n",
       "    <tr>\n",
       "      <th>8</th>\n",
       "      <td>Aldama</td>\n",
       "      <td>22.9167</td>\n",
       "      <td>-98.0667</td>\n",
       "      <td>84.99</td>\n",
       "      <td>85</td>\n",
       "      <td>60</td>\n",
       "      <td>11.01</td>\n",
       "      <td>MX</td>\n",
       "      <td>1619831567</td>\n",
       "    </tr>\n",
       "    <tr>\n",
       "      <th>9</th>\n",
       "      <td>Ushuaia</td>\n",
       "      <td>-54.8000</td>\n",
       "      <td>-68.3000</td>\n",
       "      <td>37.40</td>\n",
       "      <td>93</td>\n",
       "      <td>20</td>\n",
       "      <td>2.30</td>\n",
       "      <td>AR</td>\n",
       "      <td>1619831567</td>\n",
       "    </tr>\n",
       "  </tbody>\n",
       "</table>\n",
       "</div>"
      ],
      "text/plain": [
       "            City      Lat       Lng  Max Temp  Humidity  Cloudiness  \\\n",
       "0      Manokwari  -0.8667  134.0833     82.42        71         100   \n",
       "1          Vaini -21.2000 -175.2000     78.80        89          75   \n",
       "2       Cidreira -30.1811  -50.2056     68.79        71           0   \n",
       "3          Opuwo -18.0607   13.8400     68.90        37          57   \n",
       "4  Mar del Plata -38.0023  -57.5575     63.00        77           0   \n",
       "5    George Town   5.4112  100.3354     78.80        94          20   \n",
       "6       Borodino  55.9106   94.8983     44.20        71          77   \n",
       "7       Khatanga  71.9667  102.5000     33.42        88         100   \n",
       "8         Aldama  22.9167  -98.0667     84.99        85          60   \n",
       "9        Ushuaia -54.8000  -68.3000     37.40        93          20   \n",
       "\n",
       "   Wind Speed Country        Date  \n",
       "0        1.12      ID  1619831565  \n",
       "1       12.66      TO  1619831277  \n",
       "2       16.96      BR  1619831474  \n",
       "3        5.12      NA  1619831565  \n",
       "4       10.36      AR  1619831306  \n",
       "5        4.61      MY  1619831043  \n",
       "6        6.82      RU  1619831566  \n",
       "7       10.27      RU  1619831278  \n",
       "8       11.01      MX  1619831567  \n",
       "9        2.30      AR  1619831567  "
      ]
     },
     "execution_count": 8,
     "metadata": {},
     "output_type": "execute_result"
    }
   ],
   "source": [
    "weather_dict = {\n",
    "    \"City\": city_name,\n",
    "    \"Lat\": lat,\n",
    "    \"Lng\": lng,\n",
    "    \"Max Temp\": max_temp,\n",
    "    \"Humidity\": humidity,\n",
    "    \"Cloudiness\": cloudiness,\n",
    "    \"Wind Speed\": wind_speed,\n",
    "    \"Country\": country,\n",
    "    \"Date\": date\n",
    "}\n",
    "weather_data = pd.DataFrame(weather_dict)\n",
    "weather_data.head(10)"
   ]
  },
  {
   "cell_type": "code",
   "execution_count": 9,
   "metadata": {},
   "outputs": [],
   "source": [
    "weather_data = weather_data.dropna(how='any')"
   ]
  },
  {
   "cell_type": "code",
   "execution_count": 10,
   "metadata": {},
   "outputs": [],
   "source": [
    "weather_data.to_csv(\"Output/weather_data.csv\", index=False, header=True)"
   ]
  },
  {
   "cell_type": "code",
   "execution_count": 11,
   "metadata": {
    "scrolled": true
   },
   "outputs": [
    {
     "data": {
      "text/html": [
       "<div>\n",
       "<style scoped>\n",
       "    .dataframe tbody tr th:only-of-type {\n",
       "        vertical-align: middle;\n",
       "    }\n",
       "\n",
       "    .dataframe tbody tr th {\n",
       "        vertical-align: top;\n",
       "    }\n",
       "\n",
       "    .dataframe thead th {\n",
       "        text-align: right;\n",
       "    }\n",
       "</style>\n",
       "<table border=\"1\" class=\"dataframe\">\n",
       "  <thead>\n",
       "    <tr style=\"text-align: right;\">\n",
       "      <th></th>\n",
       "      <th>Lat</th>\n",
       "      <th>Lng</th>\n",
       "      <th>Max Temp</th>\n",
       "      <th>Humidity</th>\n",
       "      <th>Cloudiness</th>\n",
       "      <th>Wind Speed</th>\n",
       "      <th>Date</th>\n",
       "    </tr>\n",
       "  </thead>\n",
       "  <tbody>\n",
       "    <tr>\n",
       "      <th>count</th>\n",
       "      <td>597.000000</td>\n",
       "      <td>597.000000</td>\n",
       "      <td>597.000000</td>\n",
       "      <td>597.000000</td>\n",
       "      <td>597.000000</td>\n",
       "      <td>597.000000</td>\n",
       "      <td>5.970000e+02</td>\n",
       "    </tr>\n",
       "    <tr>\n",
       "      <th>mean</th>\n",
       "      <td>20.798748</td>\n",
       "      <td>20.083304</td>\n",
       "      <td>61.302462</td>\n",
       "      <td>69.552764</td>\n",
       "      <td>53.209380</td>\n",
       "      <td>7.476533</td>\n",
       "      <td>1.619832e+09</td>\n",
       "    </tr>\n",
       "    <tr>\n",
       "      <th>std</th>\n",
       "      <td>32.734027</td>\n",
       "      <td>90.889389</td>\n",
       "      <td>18.390296</td>\n",
       "      <td>21.830401</td>\n",
       "      <td>41.100157</td>\n",
       "      <td>5.250121</td>\n",
       "      <td>1.043332e+02</td>\n",
       "    </tr>\n",
       "    <tr>\n",
       "      <th>min</th>\n",
       "      <td>-54.800000</td>\n",
       "      <td>-179.166700</td>\n",
       "      <td>12.200000</td>\n",
       "      <td>1.000000</td>\n",
       "      <td>0.000000</td>\n",
       "      <td>0.160000</td>\n",
       "      <td>1.619831e+09</td>\n",
       "    </tr>\n",
       "    <tr>\n",
       "      <th>25%</th>\n",
       "      <td>-7.470600</td>\n",
       "      <td>-59.516700</td>\n",
       "      <td>46.990000</td>\n",
       "      <td>57.000000</td>\n",
       "      <td>7.000000</td>\n",
       "      <td>3.440000</td>\n",
       "      <td>1.619832e+09</td>\n",
       "    </tr>\n",
       "    <tr>\n",
       "      <th>50%</th>\n",
       "      <td>26.557900</td>\n",
       "      <td>22.224700</td>\n",
       "      <td>65.550000</td>\n",
       "      <td>73.000000</td>\n",
       "      <td>59.000000</td>\n",
       "      <td>6.150000</td>\n",
       "      <td>1.619832e+09</td>\n",
       "    </tr>\n",
       "    <tr>\n",
       "      <th>75%</th>\n",
       "      <td>47.666600</td>\n",
       "      <td>103.460900</td>\n",
       "      <td>77.000000</td>\n",
       "      <td>87.000000</td>\n",
       "      <td>99.000000</td>\n",
       "      <td>10.420000</td>\n",
       "      <td>1.619832e+09</td>\n",
       "    </tr>\n",
       "    <tr>\n",
       "      <th>max</th>\n",
       "      <td>78.218600</td>\n",
       "      <td>179.316700</td>\n",
       "      <td>91.990000</td>\n",
       "      <td>100.000000</td>\n",
       "      <td>100.000000</td>\n",
       "      <td>28.810000</td>\n",
       "      <td>1.619832e+09</td>\n",
       "    </tr>\n",
       "  </tbody>\n",
       "</table>\n",
       "</div>"
      ],
      "text/plain": [
       "              Lat         Lng    Max Temp    Humidity  Cloudiness  Wind Speed  \\\n",
       "count  597.000000  597.000000  597.000000  597.000000  597.000000  597.000000   \n",
       "mean    20.798748   20.083304   61.302462   69.552764   53.209380    7.476533   \n",
       "std     32.734027   90.889389   18.390296   21.830401   41.100157    5.250121   \n",
       "min    -54.800000 -179.166700   12.200000    1.000000    0.000000    0.160000   \n",
       "25%     -7.470600  -59.516700   46.990000   57.000000    7.000000    3.440000   \n",
       "50%     26.557900   22.224700   65.550000   73.000000   59.000000    6.150000   \n",
       "75%     47.666600  103.460900   77.000000   87.000000   99.000000   10.420000   \n",
       "max     78.218600  179.316700   91.990000  100.000000  100.000000   28.810000   \n",
       "\n",
       "               Date  \n",
       "count  5.970000e+02  \n",
       "mean   1.619832e+09  \n",
       "std    1.043332e+02  \n",
       "min    1.619831e+09  \n",
       "25%    1.619832e+09  \n",
       "50%    1.619832e+09  \n",
       "75%    1.619832e+09  \n",
       "max    1.619832e+09  "
      ]
     },
     "execution_count": 11,
     "metadata": {},
     "output_type": "execute_result"
    }
   ],
   "source": [
    "weather_data.describe()"
   ]
  },
  {
   "cell_type": "markdown",
   "metadata": {},
   "source": [
    "## Inspect the data and remove the cities where the humidity > 100%.\n",
    "----\n",
    "Skip this step if there are no cities that have humidity > 100%. "
   ]
  },
  {
   "cell_type": "code",
   "execution_count": 13,
   "metadata": {
    "scrolled": false
   },
   "outputs": [],
   "source": [
    "#  Get the indices of cities that have humidity over 100%."
   ]
  },
  {
   "cell_type": "code",
   "execution_count": 14,
   "metadata": {},
   "outputs": [],
   "source": [
    "# Make a new DataFrame equal to the city data to drop all humidity outliers by index.\n",
    "# Passing \"inplace=False\" will make a copy of the city_data DataFrame, which we call \"clean_city_data\"."
   ]
  },
  {
   "cell_type": "markdown",
   "metadata": {},
   "source": [
    "\n",
    "Max Temp is equal to 100%, therefore there are no cities with a max temperature higher than 100%."
   ]
  },
  {
   "cell_type": "markdown",
   "metadata": {},
   "source": [
    "## Plotting the Data\n",
    "* Use proper labeling of the plots using plot titles (including date of analysis) and axes labels.\n",
    "* Save the plotted figures as .pngs."
   ]
  },
  {
   "cell_type": "markdown",
   "metadata": {},
   "source": [
    "## Latitude vs. Temperature Plot"
   ]
  },
  {
   "cell_type": "code",
   "execution_count": 53,
   "metadata": {
    "scrolled": true
   },
   "outputs": [
    {
     "data": {
      "image/png": "[encoded data removed]",
      "text/plain": [
       "<Figure size 432x288 with 1 Axes>"
      ]
     },
     "metadata": {
      "needs_background": "light"
     },
     "output_type": "display_data"
    },
    {
     "data": {
      "text/plain": [
       "<Figure size 432x288 with 0 Axes>"
      ]
     },
     "metadata": {},
     "output_type": "display_data"
    }
   ],
   "source": [
    "# Create a Scatter Plot for temperature vs latitude\n",
    "x_values = weather_data['Lat']\n",
    "y_values = weather_data['Max Temp']\n",
    "plt.scatter(x_values,y_values, facecolors=\"lightblue\", edgecolors=\"black\")\n",
    "plt.title('City Latitude vs. Max Temperature (04/01/20)')\n",
    "plt.xlabel('Latitude')\n",
    "plt.ylabel('Max Temperature (F)')\n",
    "plt.show()\n",
    "plt.savefig('Output/City Latitude vs. Max Temp.png')"
   ]
  },
  {
   "cell_type": "markdown",
   "metadata": {},
   "source": [
    "This plot, City Latitude vs. Max Temperature, shows the maximum temperature of randomly generated cities in relation to their latitude or their distance away from the equator(0). This plot shows that there is a strong correlation between temperature and latitude for both northern and southern hemispheres. There is a higher average max temperature in the southern latitude with the highest max temperatures near the equator and the lowest max temperatures in the northern hemisphere."
   ]
  },
  {
   "cell_type": "markdown",
   "metadata": {},
   "source": [
    "## Latitude vs. Humidity Plot"
   ]
  },
  {
   "cell_type": "code",
   "execution_count": 56,
   "metadata": {},
   "outputs": [
    {
     "data": {
      "image/png": "[encoded data removed]",
      "text/plain": [
       "<Figure size 432x288 with 1 Axes>"
      ]
     },
     "metadata": {
      "needs_background": "light"
     },
     "output_type": "display_data"
    }
   ],
   "source": [
    "# Create a Scatter Plot for Humidity vs latitude\n",
    "x_values = weather_data['Lat']\n",
    "y_values = weather_data['Humidity']\n",
    "plt.scatter(x_values,y_values, facecolors=\"lightblue\", edgecolors=\"black\")\n",
    "plt.title('City Latitude vs. Humidity (04/01/20)')\n",
    "plt.xlabel('Latitude')\n",
    "plt.ylabel('Humidity (%)')\n",
    "plt.savefig('Output/City Latitude vs. Humidity.png', transparent=False)\n",
    "plt.show()"
   ]
  },
  {
   "cell_type": "markdown",
   "metadata": {},
   "source": [
    "This plot, City Latitude vs. Humidity, shows the percentage of humidity of randomly generated cities in relation to their latitude. This plot shows that humidity is spread out between the hemispheres, however, there is more humidity close to the equator(0) and in the northern hemisphere."
   ]
  },
  {
   "cell_type": "markdown",
   "metadata": {},
   "source": [
    "## Latitude vs. Cloudiness Plot"
   ]
  },
  {
   "cell_type": "code",
   "execution_count": 17,
   "metadata": {
    "scrolled": true
   },
   "outputs": [
    {
     "data": {
      "image/png": "[encoded data removed]",
      "text/plain": [
       "<Figure size 432x288 with 1 Axes>"
      ]
     },
     "metadata": {
      "needs_background": "light"
     },
     "output_type": "display_data"
    },
    {
     "data": {
      "text/plain": [
       "<Figure size 432x288 with 0 Axes>"
      ]
     },
     "metadata": {},
     "output_type": "display_data"
    }
   ],
   "source": [
    "# Create a Scatter Plot for Cloudiness vs latitude\n",
    "x_values = weather_data['Lat']\n",
    "y_values = weather_data['Cloudiness']\n",
    "plt.scatter(x_values,y_values, facecolors=\"lightblue\", edgecolors=\"black\")\n",
    "plt.title('City Latitude vs. Cloudiness (04/01/20)')\n",
    "plt.xlabel('Latitude')\n",
    "plt.ylabel('Cloudiness (%)')\n",
    "plt.show()\n",
    "plt.savefig('Output/City Latitude vs. Cloudiness.png')"
   ]
  },
  {
   "cell_type": "markdown",
   "metadata": {},
   "source": [
    "This plot, City Latitude vs. Cloudiness, shows the percentage of cloudiness of randomly generated cities in relation to their latitude. This plot shows that there does not seem to be a correlation between cloudiness and city latitude."
   ]
  },
  {
   "cell_type": "markdown",
   "metadata": {},
   "source": [
    "## Latitude vs. Wind Speed Plot"
   ]
  },
  {
   "cell_type": "code",
   "execution_count": 18,
   "metadata": {
    "scrolled": true
   },
   "outputs": [
    {
     "data": {
      "image/png": "[encoded data removed]",
      "text/plain": [
       "<Figure size 432x288 with 1 Axes>"
      ]
     },
     "metadata": {
      "needs_background": "light"
     },
     "output_type": "display_data"
    },
    {
     "data": {
      "text/plain": [
       "<Figure size 432x288 with 0 Axes>"
      ]
     },
     "metadata": {},
     "output_type": "display_data"
    }
   ],
   "source": [
    "# Create a Scatter Plot for Wind Speed vs latitude\n",
    "x_values = weather_data['Lat']\n",
    "y_values = weather_data['Wind Speed']\n",
    "plt.scatter(x_values,y_values, facecolors=\"lightblue\", edgecolors=\"black\")\n",
    "plt.title('City Latitude vs. Wind Speed (04/01/20)')\n",
    "plt.xlabel('Latitude')\n",
    "plt.ylabel('Wind Speed (mph)')\n",
    "plt.show()\n",
    "plt.savefig('Output/City Latitude vs. Wind Speed.png')"
   ]
  },
  {
   "cell_type": "markdown",
   "metadata": {},
   "source": [
    "This plot, City Latitude vs. Wind Speed, shows wind speed(mph) of randomly generated cities in relation to their latitude. This plot shows that there does not seem to be a correlation between wind speed and latitude. It is interesting to note that the highest reported wind speed lies in the northern hemisphere."
   ]
  },
  {
   "cell_type": "markdown",
   "metadata": {},
   "source": [
    "## Linear Regression"
   ]
  },
  {
   "cell_type": "code",
   "execution_count": 19,
   "metadata": {
    "scrolled": true
   },
   "outputs": [
    {
     "data": {
      "text/html": [
       "<div>\n",
       "<style scoped>\n",
       "    .dataframe tbody tr th:only-of-type {\n",
       "        vertical-align: middle;\n",
       "    }\n",
       "\n",
       "    .dataframe tbody tr th {\n",
       "        vertical-align: top;\n",
       "    }\n",
       "\n",
       "    .dataframe thead th {\n",
       "        text-align: right;\n",
       "    }\n",
       "</style>\n",
       "<table border=\"1\" class=\"dataframe\">\n",
       "  <thead>\n",
       "    <tr style=\"text-align: right;\">\n",
       "      <th></th>\n",
       "      <th>City</th>\n",
       "      <th>Lat</th>\n",
       "      <th>Lng</th>\n",
       "      <th>Max Temp</th>\n",
       "      <th>Humidity</th>\n",
       "      <th>Cloudiness</th>\n",
       "      <th>Wind Speed</th>\n",
       "      <th>Country</th>\n",
       "      <th>Date</th>\n",
       "    </tr>\n",
       "  </thead>\n",
       "  <tbody>\n",
       "    <tr>\n",
       "      <th>5</th>\n",
       "      <td>George Town</td>\n",
       "      <td>5.4112</td>\n",
       "      <td>100.3354</td>\n",
       "      <td>78.80</td>\n",
       "      <td>94</td>\n",
       "      <td>20</td>\n",
       "      <td>4.61</td>\n",
       "      <td>MY</td>\n",
       "      <td>1619831043</td>\n",
       "    </tr>\n",
       "    <tr>\n",
       "      <th>6</th>\n",
       "      <td>Borodino</td>\n",
       "      <td>55.9106</td>\n",
       "      <td>94.8983</td>\n",
       "      <td>44.20</td>\n",
       "      <td>71</td>\n",
       "      <td>77</td>\n",
       "      <td>6.82</td>\n",
       "      <td>RU</td>\n",
       "      <td>1619831566</td>\n",
       "    </tr>\n",
       "    <tr>\n",
       "      <th>7</th>\n",
       "      <td>Khatanga</td>\n",
       "      <td>71.9667</td>\n",
       "      <td>102.5000</td>\n",
       "      <td>33.42</td>\n",
       "      <td>88</td>\n",
       "      <td>100</td>\n",
       "      <td>10.27</td>\n",
       "      <td>RU</td>\n",
       "      <td>1619831278</td>\n",
       "    </tr>\n",
       "    <tr>\n",
       "      <th>8</th>\n",
       "      <td>Aldama</td>\n",
       "      <td>22.9167</td>\n",
       "      <td>-98.0667</td>\n",
       "      <td>84.99</td>\n",
       "      <td>85</td>\n",
       "      <td>60</td>\n",
       "      <td>11.01</td>\n",
       "      <td>MX</td>\n",
       "      <td>1619831567</td>\n",
       "    </tr>\n",
       "    <tr>\n",
       "      <th>13</th>\n",
       "      <td>Tiksi</td>\n",
       "      <td>71.6872</td>\n",
       "      <td>128.8694</td>\n",
       "      <td>30.52</td>\n",
       "      <td>89</td>\n",
       "      <td>22</td>\n",
       "      <td>4.50</td>\n",
       "      <td>RU</td>\n",
       "      <td>1619831568</td>\n",
       "    </tr>\n",
       "    <tr>\n",
       "      <th>...</th>\n",
       "      <td>...</td>\n",
       "      <td>...</td>\n",
       "      <td>...</td>\n",
       "      <td>...</td>\n",
       "      <td>...</td>\n",
       "      <td>...</td>\n",
       "      <td>...</td>\n",
       "      <td>...</td>\n",
       "      <td>...</td>\n",
       "    </tr>\n",
       "    <tr>\n",
       "      <th>591</th>\n",
       "      <td>Ndélé</td>\n",
       "      <td>8.4109</td>\n",
       "      <td>20.6473</td>\n",
       "      <td>79.92</td>\n",
       "      <td>50</td>\n",
       "      <td>100</td>\n",
       "      <td>6.78</td>\n",
       "      <td>CF</td>\n",
       "      <td>1619831773</td>\n",
       "    </tr>\n",
       "    <tr>\n",
       "      <th>592</th>\n",
       "      <td>Kolda</td>\n",
       "      <td>12.8833</td>\n",
       "      <td>-14.9500</td>\n",
       "      <td>89.60</td>\n",
       "      <td>35</td>\n",
       "      <td>57</td>\n",
       "      <td>6.91</td>\n",
       "      <td>SN</td>\n",
       "      <td>1619831630</td>\n",
       "    </tr>\n",
       "    <tr>\n",
       "      <th>594</th>\n",
       "      <td>Marsh Harbour</td>\n",
       "      <td>26.5412</td>\n",
       "      <td>-77.0636</td>\n",
       "      <td>77.81</td>\n",
       "      <td>73</td>\n",
       "      <td>22</td>\n",
       "      <td>5.06</td>\n",
       "      <td>BS</td>\n",
       "      <td>1619831774</td>\n",
       "    </tr>\n",
       "    <tr>\n",
       "      <th>595</th>\n",
       "      <td>Ust'-Karsk</td>\n",
       "      <td>52.7011</td>\n",
       "      <td>118.8077</td>\n",
       "      <td>49.78</td>\n",
       "      <td>47</td>\n",
       "      <td>6</td>\n",
       "      <td>2.93</td>\n",
       "      <td>RU</td>\n",
       "      <td>1619831774</td>\n",
       "    </tr>\n",
       "    <tr>\n",
       "      <th>596</th>\n",
       "      <td>Buchanan</td>\n",
       "      <td>5.8808</td>\n",
       "      <td>-10.0467</td>\n",
       "      <td>75.20</td>\n",
       "      <td>94</td>\n",
       "      <td>75</td>\n",
       "      <td>7.20</td>\n",
       "      <td>LR</td>\n",
       "      <td>1619831774</td>\n",
       "    </tr>\n",
       "  </tbody>\n",
       "</table>\n",
       "<p>415 rows × 9 columns</p>\n",
       "</div>"
      ],
      "text/plain": [
       "              City      Lat       Lng  Max Temp  Humidity  Cloudiness  \\\n",
       "5      George Town   5.4112  100.3354     78.80        94          20   \n",
       "6         Borodino  55.9106   94.8983     44.20        71          77   \n",
       "7         Khatanga  71.9667  102.5000     33.42        88         100   \n",
       "8           Aldama  22.9167  -98.0667     84.99        85          60   \n",
       "13           Tiksi  71.6872  128.8694     30.52        89          22   \n",
       "..             ...      ...       ...       ...       ...         ...   \n",
       "591          Ndélé   8.4109   20.6473     79.92        50         100   \n",
       "592          Kolda  12.8833  -14.9500     89.60        35          57   \n",
       "594  Marsh Harbour  26.5412  -77.0636     77.81        73          22   \n",
       "595     Ust'-Karsk  52.7011  118.8077     49.78        47           6   \n",
       "596       Buchanan   5.8808  -10.0467     75.20        94          75   \n",
       "\n",
       "     Wind Speed Country        Date  \n",
       "5          4.61      MY  1619831043  \n",
       "6          6.82      RU  1619831566  \n",
       "7         10.27      RU  1619831278  \n",
       "8         11.01      MX  1619831567  \n",
       "13         4.50      RU  1619831568  \n",
       "..          ...     ...         ...  \n",
       "591        6.78      CF  1619831773  \n",
       "592        6.91      SN  1619831630  \n",
       "594        5.06      BS  1619831774  \n",
       "595        2.93      RU  1619831774  \n",
       "596        7.20      LR  1619831774  \n",
       "\n",
       "[415 rows x 9 columns]"
      ]
     },
     "execution_count": 19,
     "metadata": {},
     "output_type": "execute_result"
    }
   ],
   "source": [
    "northern_hemisphere = weather_data.loc[weather_data[\"Lat\"] >= 0]\n",
    "northern_hemisphere"
   ]
  },
  {
   "cell_type": "code",
   "execution_count": 20,
   "metadata": {},
   "outputs": [
    {
     "data": {
      "text/html": [
       "<div>\n",
       "<style scoped>\n",
       "    .dataframe tbody tr th:only-of-type {\n",
       "        vertical-align: middle;\n",
       "    }\n",
       "\n",
       "    .dataframe tbody tr th {\n",
       "        vertical-align: top;\n",
       "    }\n",
       "\n",
       "    .dataframe thead th {\n",
       "        text-align: right;\n",
       "    }\n",
       "</style>\n",
       "<table border=\"1\" class=\"dataframe\">\n",
       "  <thead>\n",
       "    <tr style=\"text-align: right;\">\n",
       "      <th></th>\n",
       "      <th>City</th>\n",
       "      <th>Lat</th>\n",
       "      <th>Lng</th>\n",
       "      <th>Max Temp</th>\n",
       "      <th>Humidity</th>\n",
       "      <th>Cloudiness</th>\n",
       "      <th>Wind Speed</th>\n",
       "      <th>Country</th>\n",
       "      <th>Date</th>\n",
       "    </tr>\n",
       "  </thead>\n",
       "  <tbody>\n",
       "    <tr>\n",
       "      <th>0</th>\n",
       "      <td>Manokwari</td>\n",
       "      <td>-0.8667</td>\n",
       "      <td>134.0833</td>\n",
       "      <td>82.42</td>\n",
       "      <td>71</td>\n",
       "      <td>100</td>\n",
       "      <td>1.12</td>\n",
       "      <td>ID</td>\n",
       "      <td>1619831565</td>\n",
       "    </tr>\n",
       "    <tr>\n",
       "      <th>1</th>\n",
       "      <td>Vaini</td>\n",
       "      <td>-21.2000</td>\n",
       "      <td>-175.2000</td>\n",
       "      <td>78.80</td>\n",
       "      <td>89</td>\n",
       "      <td>75</td>\n",
       "      <td>12.66</td>\n",
       "      <td>TO</td>\n",
       "      <td>1619831277</td>\n",
       "    </tr>\n",
       "    <tr>\n",
       "      <th>2</th>\n",
       "      <td>Cidreira</td>\n",
       "      <td>-30.1811</td>\n",
       "      <td>-50.2056</td>\n",
       "      <td>68.79</td>\n",
       "      <td>71</td>\n",
       "      <td>0</td>\n",
       "      <td>16.96</td>\n",
       "      <td>BR</td>\n",
       "      <td>1619831474</td>\n",
       "    </tr>\n",
       "    <tr>\n",
       "      <th>3</th>\n",
       "      <td>Opuwo</td>\n",
       "      <td>-18.0607</td>\n",
       "      <td>13.8400</td>\n",
       "      <td>68.90</td>\n",
       "      <td>37</td>\n",
       "      <td>57</td>\n",
       "      <td>5.12</td>\n",
       "      <td>NA</td>\n",
       "      <td>1619831565</td>\n",
       "    </tr>\n",
       "    <tr>\n",
       "      <th>4</th>\n",
       "      <td>Mar del Plata</td>\n",
       "      <td>-38.0023</td>\n",
       "      <td>-57.5575</td>\n",
       "      <td>63.00</td>\n",
       "      <td>77</td>\n",
       "      <td>0</td>\n",
       "      <td>10.36</td>\n",
       "      <td>AR</td>\n",
       "      <td>1619831306</td>\n",
       "    </tr>\n",
       "    <tr>\n",
       "      <th>...</th>\n",
       "      <td>...</td>\n",
       "      <td>...</td>\n",
       "      <td>...</td>\n",
       "      <td>...</td>\n",
       "      <td>...</td>\n",
       "      <td>...</td>\n",
       "      <td>...</td>\n",
       "      <td>...</td>\n",
       "      <td>...</td>\n",
       "    </tr>\n",
       "    <tr>\n",
       "      <th>578</th>\n",
       "      <td>Crixás</td>\n",
       "      <td>-14.5489</td>\n",
       "      <td>-49.9692</td>\n",
       "      <td>73.09</td>\n",
       "      <td>76</td>\n",
       "      <td>92</td>\n",
       "      <td>4.83</td>\n",
       "      <td>BR</td>\n",
       "      <td>1619831769</td>\n",
       "    </tr>\n",
       "    <tr>\n",
       "      <th>580</th>\n",
       "      <td>Alofi</td>\n",
       "      <td>-19.0595</td>\n",
       "      <td>-169.9187</td>\n",
       "      <td>75.20</td>\n",
       "      <td>100</td>\n",
       "      <td>100</td>\n",
       "      <td>4.61</td>\n",
       "      <td>NU</td>\n",
       "      <td>1619831770</td>\n",
       "    </tr>\n",
       "    <tr>\n",
       "      <th>581</th>\n",
       "      <td>Inongo</td>\n",
       "      <td>-1.9500</td>\n",
       "      <td>18.2667</td>\n",
       "      <td>72.66</td>\n",
       "      <td>91</td>\n",
       "      <td>100</td>\n",
       "      <td>4.56</td>\n",
       "      <td>CD</td>\n",
       "      <td>1619831770</td>\n",
       "    </tr>\n",
       "    <tr>\n",
       "      <th>585</th>\n",
       "      <td>Gold Coast</td>\n",
       "      <td>-28.0000</td>\n",
       "      <td>153.4333</td>\n",
       "      <td>73.40</td>\n",
       "      <td>60</td>\n",
       "      <td>40</td>\n",
       "      <td>17.27</td>\n",
       "      <td>AU</td>\n",
       "      <td>1619831549</td>\n",
       "    </tr>\n",
       "    <tr>\n",
       "      <th>593</th>\n",
       "      <td>Palu</td>\n",
       "      <td>-0.8917</td>\n",
       "      <td>119.8707</td>\n",
       "      <td>83.03</td>\n",
       "      <td>74</td>\n",
       "      <td>90</td>\n",
       "      <td>2.04</td>\n",
       "      <td>ID</td>\n",
       "      <td>1619831773</td>\n",
       "    </tr>\n",
       "  </tbody>\n",
       "</table>\n",
       "<p>182 rows × 9 columns</p>\n",
       "</div>"
      ],
      "text/plain": [
       "              City      Lat       Lng  Max Temp  Humidity  Cloudiness  \\\n",
       "0        Manokwari  -0.8667  134.0833     82.42        71         100   \n",
       "1            Vaini -21.2000 -175.2000     78.80        89          75   \n",
       "2         Cidreira -30.1811  -50.2056     68.79        71           0   \n",
       "3            Opuwo -18.0607   13.8400     68.90        37          57   \n",
       "4    Mar del Plata -38.0023  -57.5575     63.00        77           0   \n",
       "..             ...      ...       ...       ...       ...         ...   \n",
       "578         Crixás -14.5489  -49.9692     73.09        76          92   \n",
       "580          Alofi -19.0595 -169.9187     75.20       100         100   \n",
       "581         Inongo  -1.9500   18.2667     72.66        91         100   \n",
       "585     Gold Coast -28.0000  153.4333     73.40        60          40   \n",
       "593           Palu  -0.8917  119.8707     83.03        74          90   \n",
       "\n",
       "     Wind Speed Country        Date  \n",
       "0          1.12      ID  1619831565  \n",
       "1         12.66      TO  1619831277  \n",
       "2         16.96      BR  1619831474  \n",
       "3          5.12      NA  1619831565  \n",
       "4         10.36      AR  1619831306  \n",
       "..          ...     ...         ...  \n",
       "578        4.83      BR  1619831769  \n",
       "580        4.61      NU  1619831770  \n",
       "581        4.56      CD  1619831770  \n",
       "585       17.27      AU  1619831549  \n",
       "593        2.04      ID  1619831773  \n",
       "\n",
       "[182 rows x 9 columns]"
      ]
     },
     "execution_count": 20,
     "metadata": {},
     "output_type": "execute_result"
    }
   ],
   "source": [
    "southern_hemisphere = weather_data.loc[weather_data[\"Lat\"] <0]\n",
    "southern_hemisphere"
   ]
  },
  {
   "cell_type": "markdown",
   "metadata": {},
   "source": [
    "####  Northern Hemisphere - Max Temp vs. Latitude Linear Regression"
   ]
  },
  {
   "cell_type": "code",
   "execution_count": 39,
   "metadata": {
    "scrolled": false
   },
   "outputs": [
    {
     "name": "stdout",
     "output_type": "stream",
     "text": [
      "The r-value is: 0.7863634325431548\n"
     ]
    },
    {
     "data": {
      "image/png": "[encoded data removed]",
      "text/plain": [
       "<Figure size 432x288 with 1 Axes>"
      ]
     },
     "metadata": {
      "needs_background": "light"
     },
     "output_type": "display_data"
    },
    {
     "data": {
      "text/plain": [
       "<Figure size 432x288 with 0 Axes>"
      ]
     },
     "metadata": {},
     "output_type": "display_data"
    }
   ],
   "source": [
    "x_values = northern_hemisphere['Lat']\n",
    "y_values = northern_hemisphere['Max Temp']\n",
    "\n",
    "# Run linear regression\n",
    "(slope, intercept, rvalue, pvalue, stderr) = linregress(x_values, y_values)\n",
    "regress_values = x_values * slope + intercept\n",
    "line_eq = \"y = \" + str(round(slope,2)) + \"x + \" + str(round(intercept,2))\n",
    "\n",
    "# Plot scatter plot\n",
    "plt.scatter(x_values,y_values, facecolors=\"lightblue\", edgecolors=\"black\")\n",
    "\n",
    "# Plot regression line\n",
    "plt.plot(x_values,regress_values,\"r-\")\n",
    "plt.annotate(line_eq,(2,6),fontsize=15,color=\"red\")\n",
    "\n",
    "#titles\n",
    "plt.title('Northern Hemisphere Latitude vs. Max Temp')\n",
    "plt.xlabel('Latitude')\n",
    "plt.ylabel('Max Temp (F)')\n",
    "\n",
    "# Print r value\n",
    "print(f\"The r-value is: {rvalue**2}\")\n",
    "\n",
    "#show\n",
    "plt.show()\n",
    "\n",
    "#save png\n",
    "plt.savefig('Output/Northern Latitude vs. Max Temp.png')"
   ]
  },
  {
   "cell_type": "markdown",
   "metadata": {},
   "source": [
    "This plot, Northern Hemisphere Latitude vs. Max Temp(F), shows the maximum temperature of randomly generated northern hemisphere cities in relation to their latitude. This plot shows that there is a strong negative correlation between maximum temperature and latitude for cities in the northern hemisphere. The closer to the equator(0), the higher the maximum temperature and the further away from the equator(0), the lower the maximum temperature."
   ]
  },
  {
   "cell_type": "markdown",
   "metadata": {},
   "source": [
    "####  Southern Hemisphere - Max Temp vs. Latitude Linear Regression"
   ]
  },
  {
   "cell_type": "code",
   "execution_count": 40,
   "metadata": {
    "scrolled": true
   },
   "outputs": [
    {
     "name": "stdout",
     "output_type": "stream",
     "text": [
      "The r-value is: 0.3881052247871621\n"
     ]
    },
    {
     "data": {
      "image/png": "[encoded data removed]",
      "text/plain": [
       "<Figure size 432x288 with 1 Axes>"
      ]
     },
     "metadata": {
      "needs_background": "light"
     },
     "output_type": "display_data"
    },
    {
     "data": {
      "text/plain": [
       "<Figure size 432x288 with 0 Axes>"
      ]
     },
     "metadata": {},
     "output_type": "display_data"
    }
   ],
   "source": [
    "# Create a Scatter Plot for Wind Speed vs latitude\n",
    "x_values = southern_hemisphere['Lat']\n",
    "y_values = southern_hemisphere['Max Temp']\n",
    "\n",
    "# Run linear regression\n",
    "(slope, intercept, rvalue, pvalue, stderr) = linregress(x_values, y_values)\n",
    "regress_values = x_values * slope + intercept\n",
    "line_eq = \"y = \" + str(round(slope,2)) + \"x + \" + str(round(intercept,2))\n",
    "\n",
    "# Plot scatter plot\n",
    "plt.scatter(x_values,y_values, facecolors=\"lightblue\", edgecolors=\"black\")\n",
    "\n",
    "# Plot regression line\n",
    "plt.plot(x_values,regress_values,\"r-\")\n",
    "plt.annotate(line_eq, (-25,43), fontsize=15, color=\"red\")\n",
    "\n",
    "#titles\n",
    "plt.title('Southern Hemisphere Latitude vs. Max Temp')\n",
    "plt.xlabel('Latitude')\n",
    "plt.ylabel('Max Temp (F)')\n",
    "\n",
    "# Print r value\n",
    "print(f\"The r-value is: {rvalue**2}\")\n",
    "\n",
    "#show\n",
    "plt.show()\n",
    "\n",
    "#save png\n",
    "plt.savefig('Output/Southern Latitude vs. Max Temp.png')"
   ]
  },
  {
   "cell_type": "markdown",
   "metadata": {},
   "source": [
    "This plot, Southern Hemisphere Latitude vs. Max Temp(F), shows the maximum temperature of randomly generated southern hemisphere cities in relation to their latitude. This plot shows that there is a positive correlation between maximum temperature and latitude for cities in the southern hemisphere. The closer to the equator(0), the higher the maximum temperature and the further away from the equator(0), the lower the maximum temperature."
   ]
  },
  {
   "cell_type": "markdown",
   "metadata": {},
   "source": [
    "####  Northern Hemisphere - Humidity (%) vs. Latitude Linear Regression"
   ]
  },
  {
   "cell_type": "code",
   "execution_count": 41,
   "metadata": {
    "scrolled": true
   },
   "outputs": [
    {
     "name": "stdout",
     "output_type": "stream",
     "text": [
      "The r-value is: 0.012250022191389261\n"
     ]
    },
    {
     "data": {
      "image/png": "[encoded data removed]",
      "text/plain": [
       "<Figure size 432x288 with 1 Axes>"
      ]
     },
     "metadata": {
      "needs_background": "light"
     },
     "output_type": "display_data"
    },
    {
     "data": {
      "text/plain": [
       "<Figure size 432x288 with 0 Axes>"
      ]
     },
     "metadata": {},
     "output_type": "display_data"
    }
   ],
   "source": [
    "x_values = northern_hemisphere['Lat']\n",
    "y_values = northern_hemisphere['Humidity']\n",
    "\n",
    "# Run linear regression\n",
    "(slope, intercept, rvalue, pvalue, stderr) = linregress(x_values, y_values)\n",
    "regress_values = x_values * slope + intercept\n",
    "line_eq = \"y = \" + str(round(slope,2)) + \"x + \" + str(round(intercept,2))\n",
    "\n",
    "# Plot scatter plot\n",
    "plt.scatter(x_values,y_values, facecolors=\"lightblue\", edgecolors=\"black\")\n",
    "\n",
    "# Plot regression line\n",
    "plt.plot(x_values,regress_values,\"r-\")\n",
    "plt.annotate(line_eq,(45, 5),fontsize=15,color=\"red\")\n",
    "\n",
    "#titles\n",
    "plt.title('Northern Hemisphere Latitude vs. Humidity')\n",
    "plt.xlabel('Latitude')\n",
    "plt.ylabel('Humidity (%)')\n",
    "\n",
    "# Print r value\n",
    "print(f\"The r-value is: {rvalue**2}\")\n",
    "\n",
    "#show\n",
    "plt.show()\n",
    "\n",
    "#save png\n",
    "plt.savefig('Output/Northern Latitude vs. Humidity.png')"
   ]
  },
  {
   "cell_type": "markdown",
   "metadata": {},
   "source": [
    "This plot, Northern Hemisphere Latitude vs. Humidity(%), shows the percentage of humidity of randomly generated northern hemisphere cities in relation to their latitude. This plot shows that there is a slight positive correlation between humidity and latitude for cities in the northern hemisphere. The closer to the equator(0), the lower the humidity and the further away from the equator(0), the higher the humidity."
   ]
  },
  {
   "cell_type": "markdown",
   "metadata": {},
   "source": [
    "####  Southern Hemisphere - Humidity (%) vs. Latitude Linear Regression"
   ]
  },
  {
   "cell_type": "code",
   "execution_count": 42,
   "metadata": {},
   "outputs": [
    {
     "name": "stdout",
     "output_type": "stream",
     "text": [
      "The r-value is: 0.07139083307941353\n"
     ]
    },
    {
     "data": {
      "image/png": "[encoded data removed]",
      "text/plain": [
       "<Figure size 432x288 with 1 Axes>"
      ]
     },
     "metadata": {
      "needs_background": "light"
     },
     "output_type": "display_data"
    },
    {
     "data": {
      "text/plain": [
       "<Figure size 432x288 with 0 Axes>"
      ]
     },
     "metadata": {},
     "output_type": "display_data"
    }
   ],
   "source": [
    "x_values = southern_hemisphere['Lat']\n",
    "y_values = southern_hemisphere['Humidity']\n",
    "\n",
    "# Run linear regression\n",
    "(slope, intercept, rvalue, pvalue, stderr) = linregress(x_values, y_values)\n",
    "regress_values = x_values * slope + intercept\n",
    "line_eq = \"y = \" + str(round(slope,2)) + \"x + \" + str(round(intercept,2))\n",
    "\n",
    "# Plot scatter plot\n",
    "plt.scatter(x_values,y_values, facecolors=\"lightblue\", edgecolors=\"black\")\n",
    "\n",
    "# Plot regression line\n",
    "plt.plot(x_values,regress_values,\"r-\")\n",
    "plt.annotate(line_eq,(-50,20),fontsize=15,color=\"red\")\n",
    "\n",
    "#titles\n",
    "plt.title('Southern Hemisphere Latitude vs. Humidity')\n",
    "plt.xlabel('Latitude')\n",
    "plt.ylabel('Humidity (%)')\n",
    "\n",
    "# Print r value\n",
    "print(f\"The r-value is: {rvalue**2}\")\n",
    "\n",
    "#show\n",
    "plt.show()\n",
    "\n",
    "#save png\n",
    "plt.savefig('Output/Southern Latitude vs. Humidity.png')"
   ]
  },
  {
   "cell_type": "markdown",
   "metadata": {},
   "source": [
    "This plot, Southern Hemisphere Latitude vs. Humidity(%), shows the percentage of humidity of randomly generated southern hemisphere cities in relation to their latitude. This plot shows that there is a positive correlation between humidity and latitude for cities in the southern hemisphere. The closer to the equator(0), the higher the humidity and the further away from the equator(0), the lower the humidity."
   ]
  },
  {
   "cell_type": "markdown",
   "metadata": {},
   "source": [
    "####  Northern Hemisphere - Cloudiness (%) vs. Latitude Linear Regression"
   ]
  },
  {
   "cell_type": "code",
   "execution_count": 43,
   "metadata": {
    "scrolled": true
   },
   "outputs": [
    {
     "name": "stdout",
     "output_type": "stream",
     "text": [
      "The r-value is: 0.014835063223699978\n"
     ]
    },
    {
     "data": {
      "image/png": "[encoded data removed]",
      "text/plain": [
       "<Figure size 432x288 with 1 Axes>"
      ]
     },
     "metadata": {
      "needs_background": "light"
     },
     "output_type": "display_data"
    },
    {
     "data": {
      "text/plain": [
       "<Figure size 432x288 with 0 Axes>"
      ]
     },
     "metadata": {},
     "output_type": "display_data"
    }
   ],
   "source": [
    "x_values = northern_hemisphere['Lat']\n",
    "y_values = northern_hemisphere['Cloudiness']\n",
    "\n",
    "# Run linear regression\n",
    "(slope, intercept, rvalue, pvalue, stderr) = linregress(x_values, y_values)\n",
    "regress_values = x_values * slope + intercept\n",
    "line_eq = \"y = \" + str(round(slope,2)) + \"x + \" + str(round(intercept,2))\n",
    "\n",
    "# Plot scatter plot\n",
    "plt.scatter(x_values,y_values, facecolors=\"lightblue\", edgecolors=\"black\")\n",
    "\n",
    "# Plot regression line\n",
    "plt.plot(x_values,regress_values,\"r-\")\n",
    "plt.annotate(line_eq,(6,10),fontsize=15,color=\"red\")\n",
    "\n",
    "#titles\n",
    "plt.title('Northern Hemisphere Latitude vs. Cloudiness')\n",
    "plt.xlabel('Latitude')\n",
    "plt.ylabel('Cloudiness (%)')\n",
    "\n",
    "# Print r value\n",
    "print(f\"The r-value is: {rvalue**2}\")\n",
    "\n",
    "#show\n",
    "plt.show()\n",
    "\n",
    "#save png\n",
    "plt.savefig('Output/Northern Latitude vs. Cloudiness.png')"
   ]
  },
  {
   "cell_type": "markdown",
   "metadata": {},
   "source": [
    "This plot, Northern Hemisphere Latitude vs. Cloudiness(%), shows the percentage of cloudiness of randomly generated northern hemisphere cities in relation to their latitude. This plot shows that there is a slight positive correlation between cloudiness and latitude for cities in the northern hemisphere. The closer to the equator(0), the lower the cloudiness and the further away from the equator(0), the higher the cloudiness."
   ]
  },
  {
   "cell_type": "markdown",
   "metadata": {},
   "source": [
    "####  Southern Hemisphere - Cloudiness (%) vs. Latitude Linear Regression"
   ]
  },
  {
   "cell_type": "code",
   "execution_count": 44,
   "metadata": {
    "scrolled": true
   },
   "outputs": [
    {
     "name": "stdout",
     "output_type": "stream",
     "text": [
      "The r-value is: 0.006723392398855737\n"
     ]
    },
    {
     "data": {
      "image/png": "[encoded data removed]",
      "text/plain": [
       "<Figure size 432x288 with 1 Axes>"
      ]
     },
     "metadata": {
      "needs_background": "light"
     },
     "output_type": "display_data"
    },
    {
     "data": {
      "text/plain": [
       "<Figure size 432x288 with 0 Axes>"
      ]
     },
     "metadata": {},
     "output_type": "display_data"
    }
   ],
   "source": [
    "x_values = southern_hemisphere['Lat']\n",
    "y_values = southern_hemisphere['Cloudiness']\n",
    "\n",
    "# Run linear regression\n",
    "(slope, intercept, rvalue, pvalue, stderr) = linregress(x_values, y_values)\n",
    "regress_values = x_values * slope + intercept\n",
    "line_eq = \"y = \" + str(round(slope,2)) + \"x + \" + str(round(intercept,2))\n",
    "\n",
    "# Plot scatter plot\n",
    "plt.scatter(x_values,y_values, facecolors=\"lightblue\", edgecolors=\"black\")\n",
    "\n",
    "# Plot regression line\n",
    "plt.plot(x_values,regress_values,\"r-\")\n",
    "plt.annotate(line_eq,(-55,55),fontsize=15,color=\"red\")\n",
    "\n",
    "#titles\n",
    "plt.title('Southern Hemisphere Latitude vs. Cloudiness')\n",
    "plt.xlabel('Latitude')\n",
    "plt.ylabel('Cloudiness (%)')\n",
    "\n",
    "# Print r value\n",
    "print(f\"The r-value is: {rvalue**2}\")\n",
    "\n",
    "#show\n",
    "plt.show()\n",
    "\n",
    "#save png\n",
    "plt.savefig('Output/Southern Latitude vs. Cloudiness.png')"
   ]
  },
  {
   "cell_type": "markdown",
   "metadata": {},
   "source": [
    "This plot, Southern Hemisphere Latitude vs. Cloudiness(%), shows the percentage of cloudiness of randomly generated southern hemisphere cities in relation to their latitude. This plot shows that there is a positive correlation between cloudiness and latitude for cities in the southern hemisphere. The closer to the equator(0), the higher the cloudiness and the further away from the equator(0), the lower the cloudiness."
   ]
  },
  {
   "cell_type": "markdown",
   "metadata": {},
   "source": [
    "####  Northern Hemisphere - Wind Speed (mph) vs. Latitude Linear Regression"
   ]
  },
  {
   "cell_type": "code",
   "execution_count": 45,
   "metadata": {
    "scrolled": true
   },
   "outputs": [
    {
     "name": "stdout",
     "output_type": "stream",
     "text": [
      "The r-value is: 0.03559530818635828\n"
     ]
    },
    {
     "data": {
      "image/png": "[encoded data removed]",
      "text/plain": [
       "<Figure size 432x288 with 1 Axes>"
      ]
     },
     "metadata": {
      "needs_background": "light"
     },
     "output_type": "display_data"
    },
    {
     "data": {
      "text/plain": [
       "<Figure size 432x288 with 0 Axes>"
      ]
     },
     "metadata": {},
     "output_type": "display_data"
    }
   ],
   "source": [
    "x_values = northern_hemisphere['Lat']\n",
    "y_values = northern_hemisphere['Wind Speed']\n",
    "\n",
    "# Run linear regression\n",
    "(slope, intercept, rvalue, pvalue, stderr) = linregress(x_values, y_values)\n",
    "regress_values = x_values * slope + intercept\n",
    "line_eq = \"y = \" + str(round(slope,2)) + \"x + \" + str(round(intercept,2))\n",
    "\n",
    "# Plot scatter plot\n",
    "plt.scatter(x_values,y_values, facecolors=\"lightblue\", edgecolors=\"black\")\n",
    "\n",
    "# Plot regression line\n",
    "plt.plot(x_values,regress_values,\"r-\")\n",
    "plt.annotate(line_eq,(4,25),fontsize=15,color=\"red\")\n",
    "\n",
    "#titles\n",
    "plt.title('Northern Hemisphere Latitude vs. Wind Speed')\n",
    "plt.xlabel('Latitude')\n",
    "plt.ylabel('Wind Speed (mph)')\n",
    "\n",
    "# Print r value\n",
    "print(f\"The r-value is: {rvalue**2}\")\n",
    "\n",
    "#show\n",
    "plt.show()\n",
    "\n",
    "#save png\n",
    "plt.savefig('Output/Northern Latitude vs. Wind Speed.png')"
   ]
  },
  {
   "cell_type": "markdown",
   "metadata": {},
   "source": [
    "This plot, Northern Hemisphere Latitude vs. Wind Speed(mph), shows the wind speed(mph) of randomly generated northern hemisphere cities in relation to their latitude. This plot shows that there is a positive correlation between wind speed and latitude for cities in the northern hemisphere. The closer to the equator(0), the lower the wind speed and the further away from the equator(0), the higher the wind speed."
   ]
  },
  {
   "cell_type": "markdown",
   "metadata": {},
   "source": [
    "####  Southern Hemisphere - Wind Speed (mph) vs. Latitude Linear Regression"
   ]
  },
  {
   "cell_type": "code",
   "execution_count": 46,
   "metadata": {
    "scrolled": false
   },
   "outputs": [
    {
     "name": "stdout",
     "output_type": "stream",
     "text": [
      "The r-value is: 0.0951429106143316\n"
     ]
    },
    {
     "data": {
      "image/png": "[encoded data removed]",
      "text/plain": [
       "<Figure size 432x288 with 1 Axes>"
      ]
     },
     "metadata": {
      "needs_background": "light"
     },
     "output_type": "display_data"
    },
    {
     "data": {
      "text/plain": [
       "<Figure size 432x288 with 0 Axes>"
      ]
     },
     "metadata": {},
     "output_type": "display_data"
    }
   ],
   "source": [
    "x_values = southern_hemisphere['Lat']\n",
    "y_values = southern_hemisphere['Wind Speed']\n",
    "\n",
    "# Run linear regression\n",
    "(slope, intercept, rvalue, pvalue, stderr) = linregress(x_values, y_values)\n",
    "regress_values = x_values * slope + intercept\n",
    "line_eq = \"y = \" + str(round(slope,2)) + \"x + \" + str(round(intercept,2))\n",
    "\n",
    "# Plot scatter plot\n",
    "plt.scatter(x_values,y_values, facecolors=\"lightblue\", edgecolors=\"black\")\n",
    "\n",
    "# Plot regression line\n",
    "plt.plot(x_values,regress_values,\"r-\")\n",
    "plt.annotate(line_eq,(-55,20),fontsize=15,color=\"red\")\n",
    "\n",
    "#titles\n",
    "plt.title('Southern Hemisphere Latitude vs. Wind Speed')\n",
    "plt.xlabel('Latitude')\n",
    "plt.ylabel('Wind Speed (mph)')\n",
    "\n",
    "# Print r value\n",
    "print(f\"The r-value is: {rvalue**2}\")\n",
    "\n",
    "#show\n",
    "plt.show()\n",
    "\n",
    "#save png\n",
    "plt.savefig('Output/Southern Latitude vs. Wind Speed.png')"
   ]
  },
  {
   "cell_type": "markdown",
   "metadata": {},
   "source": [
    "This plot, Southern Hemisphere Latitude vs. Wind Speed(mph), shows the wind speed(mph) of randomly generated southern hemisphere cities in relation to their latitude. This plot shows that there is a negative correlation between wind speed and latitude for cities in the southern hemisphere. The closer to the equator(0), the lower the wind speed and the further away from the equator(0), the higher the wind speed."
   ]
  }
 ],
 "metadata": {
  "anaconda-cloud": {},
  "kernel_info": {
   "name": "python3"
  },
  "kernelspec": {
   "display_name": "Python 3",
   "language": "python",
   "name": "python3"
  },
  "language_info": {
   "codemirror_mode": {
    "name": "ipython",
    "version": 3
   },
   "file_extension": ".py",
   "mimetype": "text/x-python",
   "name": "python",
   "nbconvert_exporter": "python",
   "pygments_lexer": "ipython3",
   "version": "3.8.5"
  },
  "latex_envs": {
   "LaTeX_envs_menu_present": true,
   "autoclose": false,
   "autocomplete": true,
   "bibliofile": "biblio.bib",
   "cite_by": "apalike",
   "current_citInitial": 1,
   "eqLabelWithNumbers": true,
   "eqNumInitial": 1,
   "hotkeys": {
    "equation": "Ctrl-E",
    "itemize": "Ctrl-I"
   },
   "labels_anchors": false,
   "latex_user_defs": false,
   "report_style_numbering": false,
   "user_envs_cfg": false
  },
  "nteract": {
   "version": "0.12.3"
  }
 },
 "nbformat": 4,
 "nbformat_minor": 2
}
